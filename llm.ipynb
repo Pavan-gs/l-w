{
 "cells": [
  {
   "cell_type": "code",
   "execution_count": null,
   "id": "860405c2",
   "metadata": {},
   "outputs": [],
   "source": [
    "# Setup Environment\n",
    "#!pip install openai transformers streamlit langchain faiss-cpu pypdf sentence-transformers"
   ]
  },
  {
   "cell_type": "markdown",
   "id": "1e289ecb",
   "metadata": {},
   "source": [
    "## Part 1: OpenAI & HuggingFace"
   ]
  },
  {
   "cell_type": "code",
   "execution_count": null,
   "id": "291ee577",
   "metadata": {},
   "outputs": [],
   "source": [
    "# OpenAI\n",
    "\"\"\"\n",
    "import openai\n",
    "openai.api_key = \"sk-xxxx\"\n",
    "response = openai.ChatCompletion.create(\n",
    "  model=\"gpt-3.5-turbo\",\n",
    "  messages=[{\"role\": \"user\", \"content\": \"What is LangChain?\"}]\n",
    ")\n",
    "print(response['choices'][0]['message']['content'])\n",
    "\"\"\""
   ]
  },
  {
   "cell_type": "code",
   "execution_count": null,
   "id": "b673af0d",
   "metadata": {},
   "outputs": [],
   "source": [
    "# HuggingFace Free Model\n",
    "from transformers import pipeline\n",
    "hf_pipe = pipeline(\"text-generation\", model=\"gpt2\")\n",
    "print(hf_pipe(\"What is a language model?\", max_length=50)[0]['generated_text'])"
   ]
  },
  {
   "cell_type": "code",
   "execution_count": null,
   "id": "eddf3b2f-95e3-4fce-858c-faae5c767552",
   "metadata": {},
   "outputs": [],
   "source": [
    "#!pip install transformers torch"
   ]
  },
  {
   "cell_type": "code",
   "execution_count": null,
   "id": "d78fd68f-6122-4718-b9a3-26446367cc64",
   "metadata": {},
   "outputs": [],
   "source": [
    "from transformers import pipeline\n",
    "\n",
    "# Load Phi-3 model\n",
    "llm = pipeline(\"text-generation\", model=\"microsoft/Phi-3-mini-4k-instruct\", device=-1)  # CPU\n",
    "prompt = \"What is KYC in banking?\"\n",
    "response = llm(prompt, max_length=100, num_return_sequences=1)[0][\"generated_text\"]\n",
    "print(\"Response:\", response)"
   ]
  },
  {
   "cell_type": "markdown",
   "id": "f19c1f19",
   "metadata": {},
   "source": [
    "## Part 2: Build PDF Q&A System (using LangChain)"
   ]
  },
  {
   "cell_type": "code",
   "execution_count": null,
   "id": "6a42f1c0",
   "metadata": {},
   "outputs": [],
   "source": [
    "from langchain.document_loaders import PyPDFLoader\n",
    "from langchain.text_splitter import CharacterTextSplitter\n",
    "from langchain.embeddings import HuggingFaceEmbeddings\n",
    "from langchain.vectorstores import FAISS\n",
    "from langchain.llms import HuggingFacePipeline\n",
    "\n",
    "loader = PyPDFLoader(\"E://l&w/5_Day_AI_GenAI_Course_Outline.pdf\")\n",
    "documents = loader.load()\n",
    "text_splitter = CharacterTextSplitter(chunk_size=500, chunk_overlap=50)\n",
    "texts = text_splitter.split_documents(documents)\n",
    "\n",
    "embeddings = HuggingFaceEmbeddings(model_name=\"all-MiniLM-L6-v2\")\n",
    "db = FAISS.from_documents(texts, embeddings)"
   ]
  },
  {
   "cell_type": "code",
   "execution_count": null,
   "id": "e7d8ab59",
   "metadata": {},
   "outputs": [],
   "source": [
    "# Sample Query\n",
    "query = \"What is the main idea in the document?\"\n",
    "docs = db.similarity_search(query)\n",
    "for doc in docs:\n",
    "    print(doc.page_content)"
   ]
  },
  {
   "cell_type": "markdown",
   "id": "481e6916",
   "metadata": {},
   "source": [
    "## Part 3: Streamlit Interface (PDF Chatbot)\n",
    "Run via `streamlit run app.py`. This is a basic interface demo."
   ]
  },
  {
   "cell_type": "code",
   "execution_count": null,
   "id": "11e7a270",
   "metadata": {},
   "outputs": [],
   "source": [
    "\"\"\"\n",
    "import streamlit as st\n",
    "st.title(\"PDF Chatbot\")\n",
    "user_input = st.text_input(\"Ask a question from PDF\")\n",
    "if user_input:\n",
    "    results = db.similarity_search(user_input, k=2)\n",
    "    for r in results:\n",
    "        st.write(r.page_content)\n",
    "\"\"\""
   ]
  },
  {
   "cell_type": "markdown",
   "id": "1e724a5d",
   "metadata": {},
   "source": [
    "## Part 4: LangChain Core Concepts"
   ]
  },
  {
   "cell_type": "code",
   "execution_count": null,
   "id": "38c1eb83",
   "metadata": {},
   "outputs": [],
   "source": [
    "from transformers import pipeline\n",
    "from langchain.prompts import PromptTemplate\n",
    "from langchain.llms import HuggingFacePipeline\n",
    "\n",
    "# Hugging Face pipeline\n",
    "pipe = pipeline(\"text-generation\", model=\"gpt2\")\n",
    "llm = HuggingFacePipeline(pipeline=pipe)\n",
    "\n",
    "# Prompt\n",
    "prompt = PromptTemplate.from_template(\"Tell me a joke about {topic}\")\n",
    "\n",
    "# LCEL style chain (prompt | llm)\n",
    "chain = prompt | llm\n",
    "result = chain.invoke({\"topic\": \"AI\"})\n",
    "\n",
    "print(result)"
   ]
  },
  {
   "cell_type": "markdown",
   "id": "4e963f78",
   "metadata": {},
   "source": [
    "## Part 5: Free Local Models (Mistral via Ollama)\n",
    "Install and run Ollama (https://ollama.com), then run `ollama run mistral`."
   ]
  },
  {
   "cell_type": "code",
   "execution_count": null,
   "id": "c7eaaada",
   "metadata": {},
   "outputs": [],
   "source": [
    "from langchain_community.llms import Ollama\n",
    "llm = Ollama(model=\"mistral\")\n",
    "print(llm.invoke(\"Explain vector databases in 30 words\"))"
   ]
  },
  {
   "cell_type": "code",
   "execution_count": null,
   "id": "80581290",
   "metadata": {},
   "outputs": [],
   "source": [
    "from langchain_core.prompts import ChatPromptTemplate\n",
    "prompt = ChatPromptTemplate.from_messages([\n",
    "    (\"system\", \"You are an expert AI assistant\"),\n",
    "    (\"user\", \"{question}\")\n",
    "])\n",
    "chain = prompt | llm\n",
    "print(chain.invoke({\"question\": \"How do you build a chatbot using LLMs?\"}))"
   ]
  },
  {
   "cell_type": "markdown",
   "id": "2a9b3569",
   "metadata": {},
   "source": [
    "## Part 6: Retrieval-Augmented Generation (RAG)"
   ]
  },
  {
   "cell_type": "code",
   "execution_count": null,
   "id": "358ec69a",
   "metadata": {},
   "outputs": [],
   "source": [
    "from langchain.chains import RetrievalQA\n",
    "retriever = db.as_retriever()\n",
    "rag_chain = RetrievalQA.from_chain_type(llm=llm, retriever=retriever)\n",
    "print(rag_chain.run(\"Summarize the PDF\"))"
   ]
  },
  {
   "cell_type": "markdown",
   "id": "44f56be3",
   "metadata": {},
   "source": [
    "## Part 7: Tools & Function Calling in LangChain"
   ]
  },
  {
   "cell_type": "code",
   "execution_count": null,
   "id": "1b4bae44",
   "metadata": {},
   "outputs": [],
   "source": [
    "from langchain.agents import initialize_agent, Tool\n",
    "\n",
    "def dummy_tool(input):\n",
    "    return f\"Log analysis completed on: {input}\"\n",
    "\n",
    "tools = [Tool(name=\"LogAnalyzer\", func=dummy_tool, description=\"Analyzes game logs\")]\n",
    "agent = initialize_agent(tools, llm, agent=\"zero-shot-react-description\", verbose=True)\n",
    "print(agent.run(\"Run LogAnalyzer on today's gaming data\"))"
   ]
  },
  {
   "cell_type": "markdown",
   "id": "2fa886d0",
   "metadata": {},
   "source": [
    "## Part 8: Mini Project – Game Betting Log Analysis\n",
    "Simulate some JSON logs and run questions over it."
   ]
  },
  {
   "cell_type": "code",
   "execution_count": null,
   "id": "69ca1103",
   "metadata": {},
   "outputs": [],
   "source": [
    "logs = [\n",
    "  {\"player\": \"Alice\", \"bet\": 100, \"outcome\": \"win\"},\n",
    "  {\"player\": \"Bob\", \"bet\": 150, \"outcome\": \"loss\"}\n",
    "]\n",
    "# Save or embed logs to vector store, then query it using same RAG setup."
   ]
  },
  {
   "cell_type": "code",
   "execution_count": 20,
   "id": "1458dc75-497a-4f01-91a9-ee8bf7aa272e",
   "metadata": {},
   "outputs": [],
   "source": [
    "#pip install sentence-transformers scikit-learn"
   ]
  },
  {
   "cell_type": "code",
   "execution_count": null,
   "id": "7f9b264a-428f-4caf-bcec-961cc07b752d",
   "metadata": {},
   "outputs": [],
   "source": [
    "from sentence_transformers import SentenceTransformer, util\n",
    "from sklearn.feature_extraction.text import TfidfVectorizer\n",
    "from sklearn.metrics.pairwise import cosine_similarity\n",
    "\n",
    "# Sample documents\n",
    "documents = [\n",
    "    \"Machine learning helps in predicting data patterns.\",\n",
    "    \"NLP enables computers to understand and generate human language.\",\n",
    "    \"Cooking is both an art and a science.\",\n",
    "    \"Transformers have revolutionized natural language processing.\",\n",
    "    \"Natural language processing allows machines to comprehend speech and text.\"\n",
    "]\n",
    "\n",
    "# Your query\n",
    "query = \"How do machines understand human language?\"\n",
    "\n",
    "# --- SEMANTIC SEARCH ---\n",
    "model = SentenceTransformer('all-MiniLM-L6-v2')\n",
    "doc_embeddings = model.encode(documents, convert_to_tensor=True)\n",
    "query_embedding = model.encode(query, convert_to_tensor=True)\n",
    "\n",
    "semantic_scores = util.cos_sim(query_embedding, doc_embeddings)[0].tolist()\n",
    "semantic_results = sorted(zip(documents, semantic_scores), key=lambda x: x[1], reverse=True)\n",
    "\n",
    "print(\"🔍 Semantic Search Results:\")\n",
    "for doc, score in semantic_results:\n",
    "    print(f\"{score:.4f} - {doc}\")\n",
    "\n",
    "# --- LEXICAL SEARCH (TF-IDF) ---\n",
    "vectorizer = TfidfVectorizer()\n",
    "tfidf_matrix = vectorizer.fit_transform(documents + [query])\n",
    "lexical_scores = cosine_similarity(tfidf_matrix[-1], tfidf_matrix[:-1])[0]\n",
    "lexical_results = sorted(zip(documents, lexical_scores), key=lambda x: x[1], reverse=True)\n",
    "\n",
    "print(\"\\n📝 Lexical Search Results:\")\n",
    "for doc, score in lexical_results:\n",
    "    print(f\"{score:.4f} - {doc}\")\n"
   ]
  }
 ],
 "metadata": {
  "kernelspec": {
   "display_name": "Python 3 (ipykernel)",
   "language": "python",
   "name": "python3"
  },
  "language_info": {
   "codemirror_mode": {
    "name": "ipython",
    "version": 3
   },
   "file_extension": ".py",
   "mimetype": "text/x-python",
   "name": "python",
   "nbconvert_exporter": "python",
   "pygments_lexer": "ipython3",
   "version": "3.11.11"
  }
 },
 "nbformat": 4,
 "nbformat_minor": 5
}
