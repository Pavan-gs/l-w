{
 "cells": [
  {
   "cell_type": "code",
   "execution_count": null,
   "id": "3a420315-3cbd-403a-ad67-3e2a6e714b91",
   "metadata": {},
   "outputs": [],
   "source": [
    "# Data Science Lifecycle"
   ]
  },
  {
   "cell_type": "raw",
   "id": "1136a415-682e-4041-8ff9-c2ea82f8748c",
   "metadata": {},
   "source": [
    "OLTP --> Online Transaction Processing --> Database --> CRUD\n",
    "OLAP --> Online Analytics Processing --> Data warehouses --> Analytics"
   ]
  },
  {
   "cell_type": "code",
   "execution_count": null,
   "id": "6190273e-c809-4a0a-83cf-ac2823e797ae",
   "metadata": {},
   "outputs": [],
   "source": [
    "# Hadoop/ Big data technologies --> Distributed storage/processing"
   ]
  },
  {
   "cell_type": "raw",
   "id": "adb8705c-d8cf-4a86-ba30-130eeacc9f99",
   "metadata": {},
   "source": [
    "1. Data engineering --> Collect, store, process & manage data (Hadoop, db/dwh, Pyspark,cloud)\n",
    "2. Data analytics --> stats, maths, analyse data (R, Pandas, Pyspark, sql)\n",
    "3. Data visualisation/BI --> Charts, dashboards (Power BI, Tableau, Qlikview, cognoz)\n",
    "4. Advanced Analytics --> ML, DL, Gen AI --> Agentic AI"
   ]
  },
  {
   "cell_type": "code",
   "execution_count": null,
   "id": "f0899ef9-33b4-4e99-9454-201243080f3b",
   "metadata": {},
   "outputs": [],
   "source": [
    "# Data Structures --> Ordered DS --> Strings, Lists, Tuples, Un-ordered DS --> Dictionaries, sets"
   ]
  },
  {
   "cell_type": "code",
   "execution_count": null,
   "id": "ae0d38ab-d246-4802-85ed-2d2611cdd4a3",
   "metadata": {},
   "outputs": [],
   "source": [
    "s = \"hi\""
   ]
  },
  {
   "cell_type": "code",
   "execution_count": null,
   "id": "811091bf-634b-4281-88e4-c85f1950cead",
   "metadata": {},
   "outputs": [],
   "source": [
    "s[1]"
   ]
  },
  {
   "cell_type": "code",
   "execution_count": null,
   "id": "029f928d-879b-402e-925c-ddff0f85f97f",
   "metadata": {},
   "outputs": [],
   "source": [
    "l = [1,21,30,\"hi\",[\"blr\",\"mys\"]]"
   ]
  },
  {
   "cell_type": "code",
   "execution_count": null,
   "id": "2696641e-e272-4452-8612-6c1f34bf7323",
   "metadata": {},
   "outputs": [],
   "source": [
    "l[4][0]"
   ]
  },
  {
   "cell_type": "code",
   "execution_count": null,
   "id": "e2c1d5cf-dc52-4aef-ab11-a4b3c400bf3e",
   "metadata": {},
   "outputs": [],
   "source": [
    "s1 = {0,1,1,1,12,3}"
   ]
  },
  {
   "cell_type": "code",
   "execution_count": null,
   "id": "f42c9801-ba41-4b0f-8b7c-d3151e7b85cf",
   "metadata": {},
   "outputs": [],
   "source": [
    "# Numpy --> n dimensional arrays"
   ]
  },
  {
   "cell_type": "code",
   "execution_count": null,
   "id": "aacaf958-1116-47ee-84de-6b738e1aad98",
   "metadata": {},
   "outputs": [],
   "source": [
    "import numpy as np"
   ]
  },
  {
   "cell_type": "code",
   "execution_count": null,
   "id": "16c5ab33-858c-4dbe-8c2e-6bb14172e89b",
   "metadata": {},
   "outputs": [],
   "source": [
    "l = [1,10,20,40]"
   ]
  },
  {
   "cell_type": "code",
   "execution_count": null,
   "id": "9ecaf11a-affa-4d06-898d-c7ba2c163b72",
   "metadata": {},
   "outputs": [],
   "source": [
    "np.array(l).reshape(2,2)"
   ]
  },
  {
   "cell_type": "code",
   "execution_count": null,
   "id": "b89feb45-ca64-485f-857a-9a9228a2b002",
   "metadata": {},
   "outputs": [],
   "source": [
    "a1 = np.array([[10,20,30],[4,6,8],[100,200,50],[67,88,33]])"
   ]
  },
  {
   "cell_type": "code",
   "execution_count": null,
   "id": "cd4d24f8-d69c-440a-b320-8d327c16a20e",
   "metadata": {},
   "outputs": [],
   "source": [
    "a1.shape"
   ]
  },
  {
   "cell_type": "code",
   "execution_count": null,
   "id": "79f7c063-9a95-46c6-8a2d-5ccfb375dfdd",
   "metadata": {},
   "outputs": [],
   "source": [
    "a1.reshape(3,4)"
   ]
  },
  {
   "cell_type": "code",
   "execution_count": null,
   "id": "db7c2948-b8c2-4d63-ac56-5b34b0a8d127",
   "metadata": {},
   "outputs": [],
   "source": [
    "a1.T"
   ]
  },
  {
   "cell_type": "code",
   "execution_count": null,
   "id": "4029a60c-060e-43f0-aa52-edab67af063c",
   "metadata": {},
   "outputs": [],
   "source": [
    "a1[2,:]"
   ]
  },
  {
   "cell_type": "code",
   "execution_count": null,
   "id": "9856594a-d8af-4425-87f7-aa426678f388",
   "metadata": {},
   "outputs": [],
   "source": [
    "a1[2:,:2]"
   ]
  },
  {
   "cell_type": "code",
   "execution_count": null,
   "id": "c5c9c74c-8cf5-4444-8542-95ad2b6561ea",
   "metadata": {},
   "outputs": [],
   "source": [
    "a1[2:,[0,2]]"
   ]
  },
  {
   "cell_type": "code",
   "execution_count": null,
   "id": "bca47a6d-cb69-43db-a92f-7aaa71d9ebca",
   "metadata": {},
   "outputs": [],
   "source": [
    "l[::2]"
   ]
  },
  {
   "cell_type": "code",
   "execution_count": null,
   "id": "3e94c0e9-4849-4c2a-b7ba-e1e53be5cdff",
   "metadata": {},
   "outputs": [],
   "source": [
    "l[1::2]"
   ]
  },
  {
   "cell_type": "code",
   "execution_count": null,
   "id": "4e3faf03-74fa-4b3a-a91e-a6a469270658",
   "metadata": {},
   "outputs": [],
   "source": [
    "a1[1::2,[0,2]]"
   ]
  },
  {
   "cell_type": "code",
   "execution_count": null,
   "id": "9f6ca1a5-c25d-4bc0-a873-9dbd2767a538",
   "metadata": {},
   "outputs": [],
   "source": [
    "dir(a1)"
   ]
  },
  {
   "cell_type": "code",
   "execution_count": null,
   "id": "6512e459-fa42-44b1-b536-d07a1c418489",
   "metadata": {},
   "outputs": [],
   "source": [
    "a1.std()"
   ]
  },
  {
   "cell_type": "code",
   "execution_count": null,
   "id": "ecd01421-2afc-4bf8-ae40-f364c4d6b5bf",
   "metadata": {},
   "outputs": [],
   "source": [
    "a1.mean()"
   ]
  },
  {
   "cell_type": "code",
   "execution_count": null,
   "id": "49ae9a22-f4cb-4fd9-bcd3-76f00dab4c24",
   "metadata": {},
   "outputs": [],
   "source": [
    "a1.flatten()"
   ]
  },
  {
   "cell_type": "code",
   "execution_count": null,
   "id": "a9eb3577-567a-44fb-95de-19a028cd564e",
   "metadata": {},
   "outputs": [],
   "source": [
    "np.array([[2,4],[8,6]]) + np.array([[20,10],[40,30]])"
   ]
  },
  {
   "cell_type": "code",
   "execution_count": null,
   "id": "b5c8e19f-0fe6-426b-b19a-955e53516d72",
   "metadata": {},
   "outputs": [],
   "source": [
    "dir(np)"
   ]
  },
  {
   "cell_type": "code",
   "execution_count": null,
   "id": "920613c5-b648-46ca-919a-57ffa32d964a",
   "metadata": {},
   "outputs": [],
   "source": [
    "import math"
   ]
  },
  {
   "cell_type": "code",
   "execution_count": null,
   "id": "971385d9-f940-4415-8166-cf45a75ed2b5",
   "metadata": {},
   "outputs": [],
   "source": [
    "dir(math)"
   ]
  },
  {
   "cell_type": "code",
   "execution_count": null,
   "id": "9e185aca-2254-495d-8fc3-95a6d2ded343",
   "metadata": {},
   "outputs": [],
   "source": [
    "math.sqrt(80)"
   ]
  },
  {
   "cell_type": "code",
   "execution_count": null,
   "id": "b97765c6-6e37-4d57-885e-36f4bd5a9f6f",
   "metadata": {},
   "outputs": [],
   "source": [
    "np.random.randn(40)"
   ]
  },
  {
   "cell_type": "code",
   "execution_count": null,
   "id": "b4b2d5fa-acdf-48f7-995c-81c4d899e96d",
   "metadata": {},
   "outputs": [],
   "source": [
    "import seaborn as sns"
   ]
  },
  {
   "cell_type": "code",
   "execution_count": null,
   "id": "c258adee-f9df-4aac-bd26-d354d153debe",
   "metadata": {},
   "outputs": [],
   "source": [
    "import warnings\n",
    "warnings.filterwarnings('ignore')"
   ]
  },
  {
   "cell_type": "code",
   "execution_count": null,
   "id": "43d8197c-7adf-48be-b7cc-6efaa51922b5",
   "metadata": {},
   "outputs": [],
   "source": [
    "sns.distplot(np.random.randn(40))"
   ]
  },
  {
   "cell_type": "code",
   "execution_count": null,
   "id": "5a0da648-2177-41da-95fb-6a04e71acb60",
   "metadata": {},
   "outputs": [],
   "source": [
    "from math import sqrt as sq"
   ]
  },
  {
   "cell_type": "code",
   "execution_count": null,
   "id": "e64511fe-8e7c-4bcd-99e8-16fed5da3983",
   "metadata": {},
   "outputs": [],
   "source": [
    "sqrt(1900)"
   ]
  },
  {
   "cell_type": "code",
   "execution_count": null,
   "id": "04bbac8c-d88b-4f5f-90c8-ee6f67c7b866",
   "metadata": {},
   "outputs": [],
   "source": [
    "sq(100)"
   ]
  },
  {
   "cell_type": "code",
   "execution_count": null,
   "id": "6daa7f3d-2233-4a3a-a5b0-20504e243b89",
   "metadata": {},
   "outputs": [],
   "source": [
    "a1.argmax"
   ]
  },
  {
   "cell_type": "code",
   "execution_count": null,
   "id": "2385e874-a869-430d-8956-df8c0f29b81a",
   "metadata": {},
   "outputs": [],
   "source": [
    "dir(a1)"
   ]
  },
  {
   "cell_type": "code",
   "execution_count": null,
   "id": "752468ff-6d64-475d-b968-f0a7ad5341bb",
   "metadata": {},
   "outputs": [],
   "source": [
    "help(l.append)"
   ]
  },
  {
   "cell_type": "code",
   "execution_count": null,
   "id": "50aebeb6-bad6-46ef-82de-9c1a7be94242",
   "metadata": {},
   "outputs": [],
   "source": [
    "def fn(x,y):\n",
    "    '''This fn takes 2 args and returns the power of x to y'''\n",
    "    return x**y"
   ]
  },
  {
   "cell_type": "code",
   "execution_count": null,
   "id": "2873c424-debc-4362-bf2f-e8d26f7466b6",
   "metadata": {},
   "outputs": [],
   "source": [
    "fn(10,20)"
   ]
  },
  {
   "cell_type": "code",
   "execution_count": null,
   "id": "a657d954-1c36-4260-81ee-7f79e80b4ea9",
   "metadata": {},
   "outputs": [],
   "source": [
    "# this is a single line comment\n",
    "'''this one is\n",
    "multi line\n",
    "comment'''"
   ]
  },
  {
   "cell_type": "code",
   "execution_count": null,
   "id": "60e612ed-d0f3-4c7f-bf28-91953aad8a56",
   "metadata": {},
   "outputs": [],
   "source": [
    "# Pandas --> Series, Dataframes"
   ]
  },
  {
   "cell_type": "code",
   "execution_count": null,
   "id": "1addbf36-e875-492b-b53c-c9414f8727d1",
   "metadata": {},
   "outputs": [],
   "source": [
    "import pandas as pd"
   ]
  },
  {
   "cell_type": "code",
   "execution_count": null,
   "id": "500896c3-0319-4f03-b400-38bdc18b1bf9",
   "metadata": {},
   "outputs": [],
   "source": [
    "s1 = [1,2,3,4,'a']"
   ]
  },
  {
   "cell_type": "code",
   "execution_count": null,
   "id": "5595c725-b66a-4cfd-ae73-0e43973c26e9",
   "metadata": {},
   "outputs": [],
   "source": [
    "type(s1[2])"
   ]
  },
  {
   "cell_type": "code",
   "execution_count": null,
   "id": "8d2889da-35e1-44c1-a309-78c75c3a9b91",
   "metadata": {},
   "outputs": [],
   "source": [
    "df = pd.DataFrame([['blr',10],['mys',20],['del',40]])"
   ]
  },
  {
   "cell_type": "code",
   "execution_count": null,
   "id": "23d3138e-535e-4e08-a3dc-b0be65e3c611",
   "metadata": {},
   "outputs": [],
   "source": [
    "df.columns=['city','pop']"
   ]
  },
  {
   "cell_type": "code",
   "execution_count": null,
   "id": "389f8394-d1af-467a-9bf9-69d871e55623",
   "metadata": {},
   "outputs": [],
   "source": [
    "df.index = [1,2,3]"
   ]
  },
  {
   "cell_type": "code",
   "execution_count": null,
   "id": "4f6df500-f88d-48c7-a8a1-29ed19638e72",
   "metadata": {},
   "outputs": [],
   "source": [
    "dt = pd.date_range('12/05/2025',periods=3,freq='M')"
   ]
  },
  {
   "cell_type": "code",
   "execution_count": null,
   "id": "d89d4155-c8b1-4d63-8d5b-875ad397923a",
   "metadata": {},
   "outputs": [],
   "source": [
    "pd.date_range('05/12/2025',periods=4,freq='3M')"
   ]
  },
  {
   "cell_type": "code",
   "execution_count": null,
   "id": "7632247d-20da-4dc2-8dee-eaeb4517e9aa",
   "metadata": {},
   "outputs": [],
   "source": [
    "pd.date_range('05/12/2025',periods=4,freq='7D')"
   ]
  },
  {
   "cell_type": "code",
   "execution_count": null,
   "id": "ef54512c-0e75-4f53-b420-528307437be2",
   "metadata": {},
   "outputs": [],
   "source": [
    "df.index=dt"
   ]
  },
  {
   "cell_type": "code",
   "execution_count": null,
   "id": "e091897e-e4b9-44de-ac9a-7235518a2dd1",
   "metadata": {},
   "outputs": [],
   "source": [
    "type(df)"
   ]
  },
  {
   "cell_type": "code",
   "execution_count": null,
   "id": "a4b98669-3035-41a7-a59c-6ed9435fec80",
   "metadata": {},
   "outputs": [],
   "source": [
    "type(df[0])"
   ]
  },
  {
   "cell_type": "code",
   "execution_count": null,
   "id": "da81817b-a198-4548-a355-cd5d7cc51ed3",
   "metadata": {},
   "outputs": [],
   "source": [
    "a1"
   ]
  },
  {
   "cell_type": "code",
   "execution_count": null,
   "id": "38801995-a6c0-42f6-bd66-d584d3dc26ac",
   "metadata": {},
   "outputs": [],
   "source": [
    "pd.DataFrame(np.array(np.random.rand(2,4)))"
   ]
  },
  {
   "cell_type": "code",
   "execution_count": null,
   "id": "0a802be8-9d0c-4afc-acf8-66542d2e7ed3",
   "metadata": {},
   "outputs": [],
   "source": [
    "df1 = pd.DataFrame({'Day':['Mon','Tue','Wed'],'Temp':[10,20.1,24.2],'Rained?':['yes','No',\"Yes\"]})"
   ]
  },
  {
   "cell_type": "code",
   "execution_count": null,
   "id": "c3ba4b56-55e4-4dbb-8706-a874729c832e",
   "metadata": {},
   "outputs": [],
   "source": [
    "df1"
   ]
  },
  {
   "cell_type": "raw",
   "id": "c0f1d2e7-62ab-42a0-97b6-bed8d1e3501d",
   "metadata": {},
   "source": [
    "# Indices --> [] (call cols by labels and ros by index), \n",
    "loc (to access rows n cols by labels), \n",
    "iloc (through indices), \n",
    "ix, iat"
   ]
  },
  {
   "cell_type": "code",
   "execution_count": null,
   "id": "cf79b3a5-b7ad-4f4f-9721-fa558f69646d",
   "metadata": {},
   "outputs": [],
   "source": [
    "df1[['Day','Rained?']][:2]"
   ]
  },
  {
   "cell_type": "code",
   "execution_count": null,
   "id": "a260aafd-6deb-408a-b803-43da0e5cccfe",
   "metadata": {},
   "outputs": [],
   "source": [
    "df1.iloc[[0,2],:]"
   ]
  },
  {
   "cell_type": "code",
   "execution_count": null,
   "id": "ac5c2a37-671e-49bc-b1da-729fce52045e",
   "metadata": {},
   "outputs": [],
   "source": [
    "df1.iloc[::2,[1]]"
   ]
  },
  {
   "cell_type": "code",
   "execution_count": null,
   "id": "9d9c33ad-fcf4-4849-a12f-7e2ad6d07e89",
   "metadata": {},
   "outputs": [],
   "source": [
    "df1.loc[2:]['Day']"
   ]
  },
  {
   "cell_type": "code",
   "execution_count": null,
   "id": "f700929c-db93-4a39-a23f-5c942dec90ed",
   "metadata": {},
   "outputs": [],
   "source": [
    "df.index"
   ]
  },
  {
   "cell_type": "code",
   "execution_count": null,
   "id": "8f1c81d3-2735-48ea-a84d-55f43ffd317b",
   "metadata": {},
   "outputs": [],
   "source": [
    "df.loc['2026-02-28']['pop']"
   ]
  },
  {
   "cell_type": "code",
   "execution_count": null,
   "id": "ec9cf538-26fb-4c32-b692-616663978aa8",
   "metadata": {},
   "outputs": [],
   "source": [
    "df1.sort_index(ascending=False)"
   ]
  },
  {
   "cell_type": "code",
   "execution_count": null,
   "id": "3df7dada-4e6c-46d4-aae3-05d663c88a71",
   "metadata": {},
   "outputs": [],
   "source": [
    "df.reset_index()"
   ]
  },
  {
   "cell_type": "code",
   "execution_count": null,
   "id": "ce0c02f2-828b-4712-bba1-d80eda169b24",
   "metadata": {},
   "outputs": [],
   "source": [
    "df.reset_index(drop=True, inplace=True)"
   ]
  },
  {
   "cell_type": "code",
   "execution_count": null,
   "id": "e090bb5d-267f-4448-b12c-e1386830e180",
   "metadata": {},
   "outputs": [],
   "source": [
    "help(df.reindex())"
   ]
  },
  {
   "cell_type": "code",
   "execution_count": null,
   "id": "185ac50c-9dce-4034-805f-ae257e9f52e2",
   "metadata": {},
   "outputs": [],
   "source": [
    "# EDA"
   ]
  },
  {
   "cell_type": "code",
   "execution_count": null,
   "id": "c6313753-4fe2-4918-8c4e-f84943fa3bd0",
   "metadata": {},
   "outputs": [],
   "source": [
    "df2 = pd.read_csv(\"E:/data/churn.csv\")"
   ]
  },
  {
   "cell_type": "code",
   "execution_count": null,
   "id": "2e470fb2-c71c-443b-87e1-eb2ae295eccc",
   "metadata": {},
   "outputs": [],
   "source": [
    "df2.shape"
   ]
  },
  {
   "cell_type": "code",
   "execution_count": null,
   "id": "f68144a5-9701-4635-9a2e-dda8f1d658b9",
   "metadata": {},
   "outputs": [],
   "source": [
    "df2[:2]"
   ]
  },
  {
   "cell_type": "code",
   "execution_count": null,
   "id": "601b25c6-f936-4d7c-a62f-a31b808c49e3",
   "metadata": {},
   "outputs": [],
   "source": [
    "df2.head(2)"
   ]
  },
  {
   "cell_type": "code",
   "execution_count": null,
   "id": "3794b676-0f20-4a4d-811f-79943911667b",
   "metadata": {},
   "outputs": [],
   "source": [
    "df2.columns"
   ]
  },
  {
   "cell_type": "code",
   "execution_count": null,
   "id": "6df05b90-627c-419b-a886-9eb60d12fc73",
   "metadata": {},
   "outputs": [],
   "source": [
    "df2['CreditScore'].mean()"
   ]
  },
  {
   "cell_type": "code",
   "execution_count": null,
   "id": "38204608-c0df-4d54-8a37-7bdfe3577427",
   "metadata": {},
   "outputs": [],
   "source": [
    "df2['CreditScore'].median()"
   ]
  },
  {
   "cell_type": "code",
   "execution_count": null,
   "id": "aafd2da4-aabb-4104-b002-05f886363102",
   "metadata": {},
   "outputs": [],
   "source": [
    "# measures of central tendency --> mean, median, mode\n",
    "# measures of dispersion --> variance, std, min, max, quartiles\n",
    "# measures of shape --> skewness, kurtosis"
   ]
  },
  {
   "cell_type": "code",
   "execution_count": null,
   "id": "af57e6c9-6e3e-46f1-bee3-ec5e19183451",
   "metadata": {},
   "outputs": [],
   "source": [
    "sns.distplot(df2['CreditScore'])"
   ]
  },
  {
   "cell_type": "code",
   "execution_count": null,
   "id": "615732a5-71f1-46f4-89d0-8fbbadc48e80",
   "metadata": {},
   "outputs": [],
   "source": [
    "sns.boxplot(df2['CreditScore'])"
   ]
  },
  {
   "cell_type": "code",
   "execution_count": null,
   "id": "21542100-d230-4965-873d-981c069c4d6c",
   "metadata": {},
   "outputs": [],
   "source": [
    "df2['CreditScore'].quantile(0.25)"
   ]
  },
  {
   "cell_type": "code",
   "execution_count": null,
   "id": "7f385c52-1385-409a-8eea-d4c3cfec8e16",
   "metadata": {},
   "outputs": [],
   "source": [
    "df2['CreditScore'].hist()"
   ]
  },
  {
   "cell_type": "code",
   "execution_count": null,
   "id": "e0d9614f-79e0-440e-b595-2df3665727d6",
   "metadata": {},
   "outputs": [],
   "source": [
    "sns.histplot(df2['CreditScore'], bins=10)"
   ]
  },
  {
   "cell_type": "code",
   "execution_count": null,
   "id": "e593e142-d5c6-4f61-b9ff-eca038397787",
   "metadata": {},
   "outputs": [],
   "source": [
    "import matplotlib.pyplot as plt"
   ]
  },
  {
   "cell_type": "code",
   "execution_count": null,
   "id": "60bbffc4-6834-471c-9f90-759e4c582270",
   "metadata": {},
   "outputs": [],
   "source": [
    "plt.plot(df2['CreditScore'])"
   ]
  },
  {
   "cell_type": "code",
   "execution_count": null,
   "id": "135950f9-9a1f-4454-8cb6-8534a4be7c57",
   "metadata": {},
   "outputs": [],
   "source": [
    "sns.boxplot(x=df2['Geography'],y=df2['EstimatedSalary'])"
   ]
  },
  {
   "cell_type": "code",
   "execution_count": null,
   "id": "c20f03cc-3c90-4faf-9a00-6125817cc85c",
   "metadata": {},
   "outputs": [],
   "source": [
    "df2['Geography'].value_counts()"
   ]
  },
  {
   "cell_type": "code",
   "execution_count": null,
   "id": "6a101ace-5458-4ce5-8027-80618d01ca8b",
   "metadata": {},
   "outputs": [],
   "source": [
    "sns.countplot(x=df2['Geography'], hue=df2['Exited'])"
   ]
  },
  {
   "cell_type": "code",
   "execution_count": null,
   "id": "51c34bb4-bb14-43fe-87f9-60288c04f0b8",
   "metadata": {},
   "outputs": [],
   "source": [
    "pd.crosstab(df2['Geography'],df2['Exited'])"
   ]
  },
  {
   "cell_type": "code",
   "execution_count": null,
   "id": "d2444192-b839-4dd1-842f-d5e87b3290a9",
   "metadata": {},
   "outputs": [],
   "source": [
    "df2['Exited'].nunique()"
   ]
  },
  {
   "cell_type": "code",
   "execution_count": null,
   "id": "b64c7b77-03ac-4324-9a12-588298eabbf0",
   "metadata": {},
   "outputs": [],
   "source": [
    "grp1=df2.groupby('Geography')"
   ]
  },
  {
   "cell_type": "code",
   "execution_count": null,
   "id": "5beba698-e4c5-4d46-935e-1d76bb110f28",
   "metadata": {},
   "outputs": [],
   "source": [
    "grp1[['EstimatedSalary','CreditScore']].mean()"
   ]
  },
  {
   "cell_type": "code",
   "execution_count": null,
   "id": "2620e546-fb5b-4b24-8a3b-d4480c294f7b",
   "metadata": {},
   "outputs": [],
   "source": [
    "df2[['EstimatedSalary','CreditScore','Geography']].groupby('Geography').mean()"
   ]
  },
  {
   "cell_type": "code",
   "execution_count": null,
   "id": "22147fa0-787e-43ef-843b-023dc9f7b267",
   "metadata": {},
   "outputs": [],
   "source": [
    "df2.groupby('Geography').agg({'CreditScore':['min','max'],'EstimatedSalary':[np.mean,'min','max'],\n",
    "                              'Balance':[np.mean,'min','max'],'Exited':['count',np.mean]})"
   ]
  },
  {
   "cell_type": "code",
   "execution_count": null,
   "id": "86b447af-2d7f-4313-aeda-453cae0ce495",
   "metadata": {},
   "outputs": [],
   "source": [
    "# pd.merge()"
   ]
  },
  {
   "cell_type": "code",
   "execution_count": null,
   "id": "2da70f5f-825e-4fe4-88c6-41cfc9fee91d",
   "metadata": {},
   "outputs": [],
   "source": [
    "round(df2.describe().T,2)"
   ]
  },
  {
   "cell_type": "code",
   "execution_count": null,
   "id": "03ff16cf-48a6-4a2b-9ac1-213d48040aa0",
   "metadata": {},
   "outputs": [],
   "source": [
    "df2.info()"
   ]
  },
  {
   "cell_type": "code",
   "execution_count": null,
   "id": "cb2e3161-4de0-4d5c-986e-e711344b543c",
   "metadata": {},
   "outputs": [],
   "source": [
    "# Data cleaning\n",
    "['CreditScore'][2] = '?'"
   ]
  },
  {
   "cell_type": "code",
   "execution_count": null,
   "id": "1c749121-722f-48aa-a508-6cd6b885d355",
   "metadata": {},
   "outputs": [],
   "source": [
    "df2['CreditScore'].mean()"
   ]
  },
  {
   "cell_type": "code",
   "execution_count": null,
   "id": "2fcab7d9-5db2-4b50-9f98-c091268c9b19",
   "metadata": {},
   "outputs": [],
   "source": [
    "df2['CreditScore'].astype('int')"
   ]
  },
  {
   "cell_type": "code",
   "execution_count": null,
   "id": "b9a06edb-3dc0-4c63-a793-8490b6b430ad",
   "metadata": {},
   "outputs": [],
   "source": [
    "df2[df2['CreditScore']=='?']"
   ]
  },
  {
   "cell_type": "code",
   "execution_count": null,
   "id": "80954c2e-9d8f-47a7-a01b-120428b73bda",
   "metadata": {},
   "outputs": [],
   "source": [
    "df2['CreditScore'][2] = np.nan"
   ]
  },
  {
   "cell_type": "code",
   "execution_count": null,
   "id": "0461e730-0482-4a7d-b12d-2fcb505d8d3b",
   "metadata": {},
   "outputs": [],
   "source": [
    "df2.isna().sum()"
   ]
  },
  {
   "cell_type": "code",
   "execution_count": null,
   "id": "f55db73b-ead2-4531-9b7b-a8ef16693881",
   "metadata": {},
   "outputs": [],
   "source": [
    "df2[df2['CreditScore'].isna()]"
   ]
  },
  {
   "cell_type": "code",
   "execution_count": null,
   "id": "4b01efd8-2143-4e42-ad96-55af1397f66a",
   "metadata": {},
   "outputs": [],
   "source": [
    "data = {\n",
    "    \"ID\": range(1, 16),\n",
    "    \"Age\": [25, np.nan, 42, 36, 50, -5, 29, 1000, 33, 30, 40, np.nan, 28, 31, 27],  # Includes NaN, outlier, negative, and incorrect type\n",
    "    \"Salary\": [50000, 60000, np.nan, 45000, 70000, 80000, 75000, \"Seventy Thousand\", np.nan, 62000, 58000, 92000, 30000, 49000, 51000],  # Includes NaN and incorrect type\n",
    "    \"Department\": [\"Sales\", \"HR\", \"IT\", \"Finance\", np.nan, \"HR\", \"Sales\", \"Marketing\", \"Finance\", \"IT\", \"Sales\", \"Sales\", \"HR\", \"IT\", \"Marketing\"],  # Includes NaN and duplicates\n",
    "}\n",
    "# Create DataFrame\n",
    "df = pd.DataFrame(data)"
   ]
  },
  {
   "cell_type": "code",
   "execution_count": null,
   "id": "a1243456-be19-436e-aa88-296da222479a",
   "metadata": {},
   "outputs": [],
   "source": [
    "df.isna().sum()"
   ]
  },
  {
   "cell_type": "code",
   "execution_count": null,
   "id": "4317cf4c-df34-4dc0-b97f-54b628fccb6f",
   "metadata": {},
   "outputs": [],
   "source": [
    "#df.dropna()"
   ]
  },
  {
   "cell_type": "code",
   "execution_count": null,
   "id": "f6ee6346-5a61-4338-8720-7a77428bde42",
   "metadata": {},
   "outputs": [],
   "source": [
    "df.dropna(axis=1)"
   ]
  },
  {
   "cell_type": "code",
   "execution_count": null,
   "id": "cea45514-3a72-45b9-ab31-9f9d839dce00",
   "metadata": {},
   "outputs": [],
   "source": [
    "# axis is 0 (rows) by default, 1 for columns, inplace = True makes it permanent"
   ]
  },
  {
   "cell_type": "code",
   "execution_count": null,
   "id": "d51899c3-3810-4608-82ed-32414bc65411",
   "metadata": {},
   "outputs": [],
   "source": [
    "df['Age'].fillna(value=df['Age'].mean())"
   ]
  },
  {
   "cell_type": "code",
   "execution_count": null,
   "id": "f8020773-3323-4617-aede-a72382404d96",
   "metadata": {},
   "outputs": [],
   "source": [
    "df.info()"
   ]
  },
  {
   "cell_type": "code",
   "execution_count": null,
   "id": "849153b6-8e9c-45db-8647-8660bfc7b856",
   "metadata": {},
   "outputs": [],
   "source": [
    "df['Age'].mean()"
   ]
  },
  {
   "cell_type": "code",
   "execution_count": null,
   "id": "284f4715-10bb-4257-867c-1881d64eac18",
   "metadata": {},
   "outputs": [],
   "source": [
    "df.describe()"
   ]
  },
  {
   "cell_type": "code",
   "execution_count": null,
   "id": "fa324c1d-05af-4867-acd5-6bf9d66fe8a0",
   "metadata": {},
   "outputs": [],
   "source": [
    "df1"
   ]
  },
  {
   "cell_type": "code",
   "execution_count": null,
   "id": "31854544-2751-4e08-bc40-777d87e90a30",
   "metadata": {},
   "outputs": [],
   "source": [
    "df1[df1['Rained?'].str.lower()=='yes']"
   ]
  },
  {
   "cell_type": "code",
   "execution_count": null,
   "id": "368cd5e4-2fd4-4477-9e28-6cf6deca8ba3",
   "metadata": {},
   "outputs": [],
   "source": []
  }
 ],
 "metadata": {
  "kernelspec": {
   "display_name": "Python 3 (ipykernel)",
   "language": "python",
   "name": "python3"
  },
  "language_info": {
   "codemirror_mode": {
    "name": "ipython",
    "version": 3
   },
   "file_extension": ".py",
   "mimetype": "text/x-python",
   "name": "python",
   "nbconvert_exporter": "python",
   "pygments_lexer": "ipython3",
   "version": "3.12.4"
  }
 },
 "nbformat": 4,
 "nbformat_minor": 5
}
