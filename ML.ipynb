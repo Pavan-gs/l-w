{
 "cells": [
  {
   "cell_type": "code",
   "execution_count": null,
   "id": "c86c3547-bbd2-433b-8e1e-130adc34ff71",
   "metadata": {},
   "outputs": [],
   "source": [
    "# Machine Learning"
   ]
  },
  {
   "cell_type": "code",
   "execution_count": null,
   "id": "d54155db-1e2f-434a-a53c-eceb9f1aabc8",
   "metadata": {},
   "outputs": [],
   "source": [
    "# Supervised ML --> Regression, Classification\n",
    "# Un-supervised ML --> Unsupervised ML"
   ]
  },
  {
   "cell_type": "code",
   "execution_count": null,
   "id": "ce51e271-2a7a-427e-92af-634185c582c2",
   "metadata": {},
   "outputs": [],
   "source": [
    "# Regression"
   ]
  },
  {
   "cell_type": "code",
   "execution_count": null,
   "id": "1425614a-cf18-44a4-9987-24ca26721693",
   "metadata": {},
   "outputs": [],
   "source": [
    "# Linear, Non-linear & Ensemble models"
   ]
  },
  {
   "cell_type": "code",
   "execution_count": null,
   "id": "ccefbabf-4284-42c6-91e7-52c49a92b4fc",
   "metadata": {},
   "outputs": [],
   "source": [
    "import pandas as pd\n",
    "import numpy as np\n",
    "import matplotlib.pyplot as plt\n",
    "import seaborn as sns"
   ]
  },
  {
   "cell_type": "code",
   "execution_count": null,
   "id": "02d331ef-bd90-41a9-abcf-a619fd581895",
   "metadata": {},
   "outputs": [],
   "source": [
    "df = pd.read_csv(\"E:/data/Boston.csv\")"
   ]
  },
  {
   "cell_type": "code",
   "execution_count": null,
   "id": "fcb37105-1871-47fe-a088-41d074db75cb",
   "metadata": {},
   "outputs": [],
   "source": [
    "df.shape"
   ]
  },
  {
   "cell_type": "code",
   "execution_count": null,
   "id": "0005e7b1-dc4d-4fd8-9017-d6d745445b1e",
   "metadata": {},
   "outputs": [],
   "source": [
    "df=df.iloc[:,1:]"
   ]
  },
  {
   "cell_type": "code",
   "execution_count": null,
   "id": "098c8c3f-8483-4408-b894-ee32f8e48cf4",
   "metadata": {},
   "outputs": [],
   "source": [
    "df[:4]"
   ]
  },
  {
   "cell_type": "code",
   "execution_count": null,
   "id": "808fe26b-8695-4a85-87ff-4e066d604fb8",
   "metadata": {},
   "outputs": [],
   "source": [
    "df.describe().T"
   ]
  },
  {
   "cell_type": "code",
   "execution_count": null,
   "id": "a6b5d6ec-e80f-4ecf-8b1d-ef31c9de1bc6",
   "metadata": {},
   "outputs": [],
   "source": [
    "df.isna().sum()"
   ]
  },
  {
   "cell_type": "code",
   "execution_count": null,
   "id": "a7789f98-f9bc-4a6e-bd8a-5398bcd965a0",
   "metadata": {},
   "outputs": [],
   "source": [
    "df.info()"
   ]
  },
  {
   "cell_type": "code",
   "execution_count": null,
   "id": "6e0b9a31-ec6f-4b70-a513-c7efa5e9f167",
   "metadata": {},
   "outputs": [],
   "source": [
    "plt.plot(df['medv'])"
   ]
  },
  {
   "cell_type": "code",
   "execution_count": null,
   "id": "f1eca0d7-2064-486b-afc1-69733a3bbba5",
   "metadata": {},
   "outputs": [],
   "source": [
    "plt.scatter(df['medv'],df['crim'])\n",
    "plt.ylabel('crime')\n",
    "plt.xlabel('price')\n",
    "plt.show()"
   ]
  },
  {
   "cell_type": "code",
   "execution_count": null,
   "id": "08e1ccf1-fc26-4d4c-880f-c09ac87e5598",
   "metadata": {},
   "outputs": [],
   "source": [
    "plt.scatter(df['medv'],df['rm'])"
   ]
  },
  {
   "cell_type": "code",
   "execution_count": null,
   "id": "9bb4cc97-c2f8-4420-950e-6e9ca1aea92d",
   "metadata": {},
   "outputs": [],
   "source": [
    "df.corr()"
   ]
  },
  {
   "cell_type": "code",
   "execution_count": null,
   "id": "c15694c6-f18c-4288-8e1a-2891cbb0957a",
   "metadata": {},
   "outputs": [],
   "source": [
    "# Assuming we have done a detailed analysis"
   ]
  },
  {
   "cell_type": "code",
   "execution_count": null,
   "id": "90c3a54f-28b1-4a03-9c2b-4325c24d9fb3",
   "metadata": {},
   "outputs": [],
   "source": [
    "plt.scatter(df['lstat'],df['crim'])"
   ]
  },
  {
   "cell_type": "code",
   "execution_count": null,
   "id": "b1558fa7-7a74-4738-a948-c148592c55b7",
   "metadata": {},
   "outputs": [],
   "source": [
    "df[:3]"
   ]
  },
  {
   "cell_type": "code",
   "execution_count": null,
   "id": "aa955c83-7e90-41a0-a74e-54402a25b9ae",
   "metadata": {},
   "outputs": [],
   "source": [
    "# med --> price in 1000$"
   ]
  },
  {
   "cell_type": "code",
   "execution_count": null,
   "id": "a863177a-a431-4b64-8adb-f34f72ccd7f6",
   "metadata": {},
   "outputs": [],
   "source": [
    "sns.pairplot(df)"
   ]
  },
  {
   "cell_type": "code",
   "execution_count": null,
   "id": "f0df6d10-d6cc-4ff3-8fea-6741e52010f3",
   "metadata": {},
   "outputs": [],
   "source": [
    "# Linear regression"
   ]
  },
  {
   "cell_type": "code",
   "execution_count": null,
   "id": "f3acc7f7-7a55-4bec-9337-28af9b03725a",
   "metadata": {},
   "outputs": [],
   "source": [
    "# e(y) = b0+b1*x1+b2*x2+.....err"
   ]
  },
  {
   "cell_type": "raw",
   "id": "b4ac8396-bb2d-4106-9698-df0683c7ba3d",
   "metadata": {},
   "source": [
    "b0 --> intercept\n",
    "b --> coefficients (weights)"
   ]
  },
  {
   "cell_type": "raw",
   "id": "fc5be819-8f70-45f3-9987-24f5ab6c0071",
   "metadata": {},
   "source": [
    "Assumption1 --> All x vars should have a linear relationship with Y"
   ]
  },
  {
   "cell_type": "code",
   "execution_count": null,
   "id": "9c05d694-6c4a-4976-bd55-8e10a28bdc0c",
   "metadata": {},
   "outputs": [],
   "source": [
    "plt.figure(figsize=(10,5))\n",
    "sns.heatmap(df.corr(), annot=True)\n",
    "plt.show()"
   ]
  },
  {
   "cell_type": "code",
   "execution_count": null,
   "id": "2b63bdbd-9dd5-4bb4-aba6-81210b1de24f",
   "metadata": {},
   "outputs": [],
   "source": [
    "# Check the distribution of the target variable"
   ]
  },
  {
   "cell_type": "code",
   "execution_count": null,
   "id": "c7e2edef-13ce-49e8-bd10-2df3c4cc2dbf",
   "metadata": {},
   "outputs": [],
   "source": [
    "sns.boxplot(df['medv'])"
   ]
  },
  {
   "cell_type": "code",
   "execution_count": null,
   "id": "18ca5a2c-a114-472d-a2f6-046c35c31b7c",
   "metadata": {},
   "outputs": [],
   "source": [
    "x = df.iloc[:,:13]"
   ]
  },
  {
   "cell_type": "code",
   "execution_count": null,
   "id": "4bbaf4ba-db91-46e3-b4c7-6444fb02dd9a",
   "metadata": {},
   "outputs": [],
   "source": [
    "y = df['medv']"
   ]
  },
  {
   "cell_type": "code",
   "execution_count": null,
   "id": "b012da27-62cf-4233-bc4e-1a5bbeb347b2",
   "metadata": {},
   "outputs": [],
   "source": [
    "df.columns"
   ]
  },
  {
   "cell_type": "code",
   "execution_count": null,
   "id": "abd5d956-03a7-4027-973e-6c4d6481bf22",
   "metadata": {},
   "outputs": [],
   "source": [
    "from sklearn.model_selection import train_test_split"
   ]
  },
  {
   "cell_type": "code",
   "execution_count": null,
   "id": "c35b7fac-fc5c-43cd-98f9-fbe3e9c0880a",
   "metadata": {},
   "outputs": [],
   "source": [
    "xtrain,xtest,ytrain,ytest = train_test_split(x,y, test_size=0.2)"
   ]
  },
  {
   "cell_type": "code",
   "execution_count": 74,
   "id": "b323bd7a-a3a1-4f63-b27b-321dc9946bb7",
   "metadata": {},
   "outputs": [
    {
     "data": {
      "text/html": [
       "<div>\n",
       "<style scoped>\n",
       "    .dataframe tbody tr th:only-of-type {\n",
       "        vertical-align: middle;\n",
       "    }\n",
       "\n",
       "    .dataframe tbody tr th {\n",
       "        vertical-align: top;\n",
       "    }\n",
       "\n",
       "    .dataframe thead th {\n",
       "        text-align: right;\n",
       "    }\n",
       "</style>\n",
       "<table border=\"1\" class=\"dataframe\">\n",
       "  <thead>\n",
       "    <tr style=\"text-align: right;\">\n",
       "      <th></th>\n",
       "      <th>crim</th>\n",
       "      <th>zn</th>\n",
       "      <th>indus</th>\n",
       "      <th>chas</th>\n",
       "      <th>nox</th>\n",
       "      <th>rm</th>\n",
       "      <th>age</th>\n",
       "      <th>dis</th>\n",
       "      <th>rad</th>\n",
       "      <th>tax</th>\n",
       "      <th>ptratio</th>\n",
       "      <th>black</th>\n",
       "      <th>lstat</th>\n",
       "    </tr>\n",
       "  </thead>\n",
       "  <tbody>\n",
       "    <tr>\n",
       "      <th>23</th>\n",
       "      <td>0.98843</td>\n",
       "      <td>0.0</td>\n",
       "      <td>8.14</td>\n",
       "      <td>0</td>\n",
       "      <td>0.538</td>\n",
       "      <td>5.813</td>\n",
       "      <td>100.0</td>\n",
       "      <td>4.0952</td>\n",
       "      <td>4</td>\n",
       "      <td>307</td>\n",
       "      <td>21.0</td>\n",
       "      <td>394.54</td>\n",
       "      <td>19.88</td>\n",
       "    </tr>\n",
       "    <tr>\n",
       "      <th>441</th>\n",
       "      <td>9.72418</td>\n",
       "      <td>0.0</td>\n",
       "      <td>18.10</td>\n",
       "      <td>0</td>\n",
       "      <td>0.740</td>\n",
       "      <td>6.406</td>\n",
       "      <td>97.2</td>\n",
       "      <td>2.0651</td>\n",
       "      <td>24</td>\n",
       "      <td>666</td>\n",
       "      <td>20.2</td>\n",
       "      <td>385.96</td>\n",
       "      <td>19.52</td>\n",
       "    </tr>\n",
       "  </tbody>\n",
       "</table>\n",
       "</div>"
      ],
      "text/plain": [
       "        crim   zn  indus  chas    nox     rm    age     dis  rad  tax  \\\n",
       "23   0.98843  0.0   8.14     0  0.538  5.813  100.0  4.0952    4  307   \n",
       "441  9.72418  0.0  18.10     0  0.740  6.406   97.2  2.0651   24  666   \n",
       "\n",
       "     ptratio   black  lstat  \n",
       "23      21.0  394.54  19.88  \n",
       "441     20.2  385.96  19.52  "
      ]
     },
     "execution_count": 74,
     "metadata": {},
     "output_type": "execute_result"
    }
   ],
   "source": [
    "xtrain[:2]"
   ]
  },
  {
   "cell_type": "code",
   "execution_count": null,
   "id": "3f80a27b-47b9-4e21-9934-6082f9f75b0b",
   "metadata": {},
   "outputs": [],
   "source": [
    "xtest.shape"
   ]
  },
  {
   "cell_type": "code",
   "execution_count": null,
   "id": "f8b82037-1336-481a-9339-b18f0e3e91d0",
   "metadata": {},
   "outputs": [],
   "source": [
    "xtrain.shape"
   ]
  },
  {
   "cell_type": "code",
   "execution_count": null,
   "id": "c43775ba-317a-4dfc-8a1e-b7559bc7929e",
   "metadata": {},
   "outputs": [],
   "source": [
    "sns.boxplot(ytest)"
   ]
  },
  {
   "cell_type": "code",
   "execution_count": 67,
   "id": "11f083c7-d60f-491a-baeb-dd366296868b",
   "metadata": {},
   "outputs": [],
   "source": [
    "from sklearn.linear_model import LinearRegression"
   ]
  },
  {
   "cell_type": "code",
   "execution_count": 68,
   "id": "e72fd9a4-f099-481d-acea-495eb798ecc8",
   "metadata": {},
   "outputs": [],
   "source": [
    "lr = LinearRegression()"
   ]
  },
  {
   "cell_type": "code",
   "execution_count": 69,
   "id": "dd598db0-ae3b-428b-af61-0daf7eb4353e",
   "metadata": {},
   "outputs": [],
   "source": [
    "model_lr = lr.fit(xtrain,ytrain)"
   ]
  },
  {
   "cell_type": "code",
   "execution_count": 70,
   "id": "97ef2d01-f4fb-411c-b3d1-36b6d1e704ac",
   "metadata": {},
   "outputs": [
    {
     "data": {
      "text/plain": [
       "36.105038759876"
      ]
     },
     "execution_count": 70,
     "metadata": {},
     "output_type": "execute_result"
    }
   ],
   "source": [
    "model_lr.intercept_"
   ]
  },
  {
   "cell_type": "code",
   "execution_count": 71,
   "id": "8dc5c616-7f6c-40cd-8d37-600bdd6a148f",
   "metadata": {},
   "outputs": [
    {
     "data": {
      "text/plain": [
       "array([-1.07442897e-01,  3.71874819e-02,  2.48409813e-02,  3.36764777e+00,\n",
       "       -2.06115954e+01,  4.03409076e+00,  6.59348476e-03, -1.43216272e+00,\n",
       "        3.19354423e-01, -1.12053667e-02, -9.83919566e-01,  9.70058590e-03,\n",
       "       -5.30551729e-01])"
      ]
     },
     "execution_count": 71,
     "metadata": {},
     "output_type": "execute_result"
    }
   ],
   "source": [
    "model_lr.coef_"
   ]
  },
  {
   "cell_type": "code",
   "execution_count": 72,
   "id": "58a12b24-81ea-45ab-92a2-17623e5d9b40",
   "metadata": {},
   "outputs": [
    {
     "data": {
      "text/html": [
       "<div>\n",
       "<style scoped>\n",
       "    .dataframe tbody tr th:only-of-type {\n",
       "        vertical-align: middle;\n",
       "    }\n",
       "\n",
       "    .dataframe tbody tr th {\n",
       "        vertical-align: top;\n",
       "    }\n",
       "\n",
       "    .dataframe thead th {\n",
       "        text-align: right;\n",
       "    }\n",
       "</style>\n",
       "<table border=\"1\" class=\"dataframe\">\n",
       "  <thead>\n",
       "    <tr style=\"text-align: right;\">\n",
       "      <th></th>\n",
       "      <th>crim</th>\n",
       "      <th>zn</th>\n",
       "      <th>indus</th>\n",
       "      <th>chas</th>\n",
       "      <th>nox</th>\n",
       "      <th>rm</th>\n",
       "      <th>age</th>\n",
       "      <th>dis</th>\n",
       "      <th>rad</th>\n",
       "      <th>tax</th>\n",
       "      <th>ptratio</th>\n",
       "      <th>black</th>\n",
       "      <th>lstat</th>\n",
       "    </tr>\n",
       "  </thead>\n",
       "  <tbody>\n",
       "    <tr>\n",
       "      <th>229</th>\n",
       "      <td>0.44178</td>\n",
       "      <td>0.0</td>\n",
       "      <td>6.2</td>\n",
       "      <td>0</td>\n",
       "      <td>0.504</td>\n",
       "      <td>6.552</td>\n",
       "      <td>21.4</td>\n",
       "      <td>3.3751</td>\n",
       "      <td>8</td>\n",
       "      <td>307</td>\n",
       "      <td>17.4</td>\n",
       "      <td>380.34</td>\n",
       "      <td>3.76</td>\n",
       "    </tr>\n",
       "  </tbody>\n",
       "</table>\n",
       "</div>"
      ],
      "text/plain": [
       "        crim   zn  indus  chas    nox     rm   age     dis  rad  tax  ptratio  \\\n",
       "229  0.44178  0.0    6.2     0  0.504  6.552  21.4  3.3751    8  307     17.4   \n",
       "\n",
       "      black  lstat  \n",
       "229  380.34   3.76  "
      ]
     },
     "execution_count": 72,
     "metadata": {},
     "output_type": "execute_result"
    }
   ],
   "source": [
    "xtest[:1]"
   ]
  },
  {
   "cell_type": "code",
   "execution_count": 73,
   "id": "3293cfc8-0fc4-40e6-8aa6-058a61f302c7",
   "metadata": {},
   "outputs": [
    {
     "data": {
      "text/plain": [
       "array([31.25134718])"
      ]
     },
     "execution_count": 73,
     "metadata": {},
     "output_type": "execute_result"
    }
   ],
   "source": [
    "model_lr.predict(xtest[:1])"
   ]
  },
  {
   "cell_type": "code",
   "execution_count": null,
   "id": "b0e14b54-d1d7-4168-b914-595d0ba8e917",
   "metadata": {},
   "outputs": [],
   "source": []
  }
 ],
 "metadata": {
  "kernelspec": {
   "display_name": "Python 3 (ipykernel)",
   "language": "python",
   "name": "python3"
  },
  "language_info": {
   "codemirror_mode": {
    "name": "ipython",
    "version": 3
   },
   "file_extension": ".py",
   "mimetype": "text/x-python",
   "name": "python",
   "nbconvert_exporter": "python",
   "pygments_lexer": "ipython3",
   "version": "3.12.4"
  }
 },
 "nbformat": 4,
 "nbformat_minor": 5
}
