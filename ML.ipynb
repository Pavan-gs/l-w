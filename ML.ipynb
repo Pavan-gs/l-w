{
 "cells": [
  {
   "cell_type": "code",
   "execution_count": null,
   "id": "c86c3547-bbd2-433b-8e1e-130adc34ff71",
   "metadata": {},
   "outputs": [],
   "source": [
    "# Machine Learning"
   ]
  },
  {
   "cell_type": "code",
   "execution_count": null,
   "id": "d54155db-1e2f-434a-a53c-eceb9f1aabc8",
   "metadata": {},
   "outputs": [],
   "source": [
    "# Supervised ML --> Regression, Classification\n",
    "# Un-supervised ML --> Unsupervised ML"
   ]
  },
  {
   "cell_type": "code",
   "execution_count": null,
   "id": "ce51e271-2a7a-427e-92af-634185c582c2",
   "metadata": {},
   "outputs": [],
   "source": [
    "# Regression"
   ]
  },
  {
   "cell_type": "code",
   "execution_count": null,
   "id": "1425614a-cf18-44a4-9987-24ca26721693",
   "metadata": {},
   "outputs": [],
   "source": [
    "# Linear, Non-linear & Ensemble models"
   ]
  },
  {
   "cell_type": "code",
   "execution_count": null,
   "id": "ccefbabf-4284-42c6-91e7-52c49a92b4fc",
   "metadata": {},
   "outputs": [],
   "source": [
    "import pandas as pd\n",
    "import numpy as np\n",
    "import matplotlib.pyplot as plt\n",
    "import seaborn as sns"
   ]
  },
  {
   "cell_type": "code",
   "execution_count": null,
   "id": "02d331ef-bd90-41a9-abcf-a619fd581895",
   "metadata": {},
   "outputs": [],
   "source": [
    "df = pd.read_csv(\"E:/data/Boston.csv\")"
   ]
  },
  {
   "cell_type": "code",
   "execution_count": null,
   "id": "fcb37105-1871-47fe-a088-41d074db75cb",
   "metadata": {},
   "outputs": [],
   "source": [
    "df.shape"
   ]
  },
  {
   "cell_type": "code",
   "execution_count": null,
   "id": "0005e7b1-dc4d-4fd8-9017-d6d745445b1e",
   "metadata": {},
   "outputs": [],
   "source": [
    "df=df.iloc[:,1:]"
   ]
  },
  {
   "cell_type": "code",
   "execution_count": null,
   "id": "098c8c3f-8483-4408-b894-ee32f8e48cf4",
   "metadata": {},
   "outputs": [],
   "source": [
    "df[:4]"
   ]
  },
  {
   "cell_type": "code",
   "execution_count": null,
   "id": "808fe26b-8695-4a85-87ff-4e066d604fb8",
   "metadata": {},
   "outputs": [],
   "source": [
    "df.describe().T"
   ]
  },
  {
   "cell_type": "code",
   "execution_count": null,
   "id": "a6b5d6ec-e80f-4ecf-8b1d-ef31c9de1bc6",
   "metadata": {},
   "outputs": [],
   "source": [
    "df.isna().sum()"
   ]
  },
  {
   "cell_type": "code",
   "execution_count": null,
   "id": "a7789f98-f9bc-4a6e-bd8a-5398bcd965a0",
   "metadata": {},
   "outputs": [],
   "source": [
    "df.info()"
   ]
  },
  {
   "cell_type": "code",
   "execution_count": null,
   "id": "6e0b9a31-ec6f-4b70-a513-c7efa5e9f167",
   "metadata": {},
   "outputs": [],
   "source": [
    "plt.plot(df['medv'])"
   ]
  },
  {
   "cell_type": "code",
   "execution_count": null,
   "id": "f1eca0d7-2064-486b-afc1-69733a3bbba5",
   "metadata": {},
   "outputs": [],
   "source": [
    "plt.scatter(df['medv'],df['crim'])\n",
    "plt.ylabel('crime')\n",
    "plt.xlabel('price')\n",
    "plt.show()"
   ]
  },
  {
   "cell_type": "code",
   "execution_count": null,
   "id": "08e1ccf1-fc26-4d4c-880f-c09ac87e5598",
   "metadata": {},
   "outputs": [],
   "source": [
    "plt.scatter(df['medv'],df['rm'])"
   ]
  },
  {
   "cell_type": "code",
   "execution_count": null,
   "id": "9bb4cc97-c2f8-4420-950e-6e9ca1aea92d",
   "metadata": {},
   "outputs": [],
   "source": [
    "df.corr()"
   ]
  },
  {
   "cell_type": "code",
   "execution_count": null,
   "id": "c15694c6-f18c-4288-8e1a-2891cbb0957a",
   "metadata": {},
   "outputs": [],
   "source": [
    "# Assuming we have done a detailed analysis"
   ]
  },
  {
   "cell_type": "code",
   "execution_count": null,
   "id": "90c3a54f-28b1-4a03-9c2b-4325c24d9fb3",
   "metadata": {},
   "outputs": [],
   "source": [
    "plt.scatter(df['lstat'],df['crim'])"
   ]
  },
  {
   "cell_type": "code",
   "execution_count": null,
   "id": "b1558fa7-7a74-4738-a948-c148592c55b7",
   "metadata": {},
   "outputs": [],
   "source": [
    "df[:3]"
   ]
  },
  {
   "cell_type": "code",
   "execution_count": null,
   "id": "aa955c83-7e90-41a0-a74e-54402a25b9ae",
   "metadata": {},
   "outputs": [],
   "source": [
    "# med --> price in 1000$"
   ]
  },
  {
   "cell_type": "code",
   "execution_count": null,
   "id": "a863177a-a431-4b64-8adb-f34f72ccd7f6",
   "metadata": {},
   "outputs": [],
   "source": [
    "sns.pairplot(df)"
   ]
  },
  {
   "cell_type": "code",
   "execution_count": null,
   "id": "f0df6d10-d6cc-4ff3-8fea-6741e52010f3",
   "metadata": {},
   "outputs": [],
   "source": [
    "# Linear regression"
   ]
  },
  {
   "cell_type": "code",
   "execution_count": null,
   "id": "f3acc7f7-7a55-4bec-9337-28af9b03725a",
   "metadata": {},
   "outputs": [],
   "source": [
    "# e(y) = b0+b1*x1+b2*x2+.....err"
   ]
  },
  {
   "cell_type": "raw",
   "id": "b4ac8396-bb2d-4106-9698-df0683c7ba3d",
   "metadata": {},
   "source": [
    "b0 --> intercept\n",
    "b --> coefficients (weights)"
   ]
  },
  {
   "cell_type": "raw",
   "id": "fc5be819-8f70-45f3-9987-24f5ab6c0071",
   "metadata": {},
   "source": [
    "Assumption1 --> All x vars should have a linear relationship with Y"
   ]
  },
  {
   "cell_type": "code",
   "execution_count": null,
   "id": "9c05d694-6c4a-4976-bd55-8e10a28bdc0c",
   "metadata": {},
   "outputs": [],
   "source": [
    "plt.figure(figsize=(10,5))\n",
    "sns.heatmap(df.corr(), annot=True)\n",
    "plt.show()"
   ]
  },
  {
   "cell_type": "code",
   "execution_count": 46,
   "id": "cd7dd56a-184e-4959-a7c5-5feb6f5bd0fb",
   "metadata": {},
   "outputs": [
    {
     "data": {
      "text/plain": [
       "'C:\\\\Users\\\\admin'"
      ]
     },
     "execution_count": 46,
     "metadata": {},
     "output_type": "execute_result"
    }
   ],
   "source": [
    "pwd"
   ]
  },
  {
   "cell_type": "code",
   "execution_count": null,
   "id": "2b63bdbd-9dd5-4bb4-aba6-81210b1de24f",
   "metadata": {},
   "outputs": [],
   "source": []
  }
 ],
 "metadata": {
  "kernelspec": {
   "display_name": "Python 3 (ipykernel)",
   "language": "python",
   "name": "python3"
  },
  "language_info": {
   "codemirror_mode": {
    "name": "ipython",
    "version": 3
   },
   "file_extension": ".py",
   "mimetype": "text/x-python",
   "name": "python",
   "nbconvert_exporter": "python",
   "pygments_lexer": "ipython3",
   "version": "3.12.4"
  }
 },
 "nbformat": 4,
 "nbformat_minor": 5
}
