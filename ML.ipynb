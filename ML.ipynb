{
 "cells": [
  {
   "cell_type": "code",
   "execution_count": null,
   "id": "c86c3547-bbd2-433b-8e1e-130adc34ff71",
   "metadata": {},
   "outputs": [],
   "source": [
    "# Machine Learning"
   ]
  },
  {
   "cell_type": "code",
   "execution_count": null,
   "id": "d54155db-1e2f-434a-a53c-eceb9f1aabc8",
   "metadata": {},
   "outputs": [],
   "source": [
    "# Supervised ML --> Regression, Classification\n",
    "# Un-supervised ML --> Unsupervised ML"
   ]
  },
  {
   "cell_type": "code",
   "execution_count": null,
   "id": "ce51e271-2a7a-427e-92af-634185c582c2",
   "metadata": {},
   "outputs": [],
   "source": [
    "# Regression"
   ]
  },
  {
   "cell_type": "code",
   "execution_count": null,
   "id": "1425614a-cf18-44a4-9987-24ca26721693",
   "metadata": {},
   "outputs": [],
   "source": [
    "# Linear, Non-linear & Ensemble models"
   ]
  },
  {
   "cell_type": "code",
   "execution_count": null,
   "id": "ccefbabf-4284-42c6-91e7-52c49a92b4fc",
   "metadata": {},
   "outputs": [],
   "source": [
    "import pandas as pd\n",
    "import numpy as np\n",
    "import matplotlib.pyplot as plt\n",
    "import seaborn as sns"
   ]
  },
  {
   "cell_type": "code",
   "execution_count": null,
   "id": "02d331ef-bd90-41a9-abcf-a619fd581895",
   "metadata": {},
   "outputs": [],
   "source": [
    "df = pd.read_csv(\"E:/data/Boston.csv\")"
   ]
  },
  {
   "cell_type": "code",
   "execution_count": null,
   "id": "fcb37105-1871-47fe-a088-41d074db75cb",
   "metadata": {},
   "outputs": [],
   "source": [
    "df.shape"
   ]
  },
  {
   "cell_type": "code",
   "execution_count": null,
   "id": "0005e7b1-dc4d-4fd8-9017-d6d745445b1e",
   "metadata": {},
   "outputs": [],
   "source": [
    "df=df.iloc[:,1:]"
   ]
  },
  {
   "cell_type": "code",
   "execution_count": null,
   "id": "098c8c3f-8483-4408-b894-ee32f8e48cf4",
   "metadata": {},
   "outputs": [],
   "source": [
    "df[:4]"
   ]
  },
  {
   "cell_type": "code",
   "execution_count": null,
   "id": "808fe26b-8695-4a85-87ff-4e066d604fb8",
   "metadata": {},
   "outputs": [],
   "source": [
    "df.describe().T"
   ]
  },
  {
   "cell_type": "code",
   "execution_count": null,
   "id": "a6b5d6ec-e80f-4ecf-8b1d-ef31c9de1bc6",
   "metadata": {},
   "outputs": [],
   "source": [
    "df.isna().sum()"
   ]
  },
  {
   "cell_type": "code",
   "execution_count": null,
   "id": "a7789f98-f9bc-4a6e-bd8a-5398bcd965a0",
   "metadata": {},
   "outputs": [],
   "source": [
    "df.info()"
   ]
  },
  {
   "cell_type": "code",
   "execution_count": null,
   "id": "6e0b9a31-ec6f-4b70-a513-c7efa5e9f167",
   "metadata": {},
   "outputs": [],
   "source": [
    "plt.plot(df['medv'])"
   ]
  },
  {
   "cell_type": "code",
   "execution_count": null,
   "id": "f1eca0d7-2064-486b-afc1-69733a3bbba5",
   "metadata": {},
   "outputs": [],
   "source": [
    "plt.scatter(df['medv'],df['crim'])\n",
    "plt.ylabel('crime')\n",
    "plt.xlabel('price')\n",
    "plt.show()"
   ]
  },
  {
   "cell_type": "code",
   "execution_count": null,
   "id": "08e1ccf1-fc26-4d4c-880f-c09ac87e5598",
   "metadata": {},
   "outputs": [],
   "source": [
    "plt.scatter(df['medv'],df['rm'])"
   ]
  },
  {
   "cell_type": "code",
   "execution_count": null,
   "id": "9bb4cc97-c2f8-4420-950e-6e9ca1aea92d",
   "metadata": {},
   "outputs": [],
   "source": [
    "df.corr()"
   ]
  },
  {
   "cell_type": "code",
   "execution_count": null,
   "id": "c15694c6-f18c-4288-8e1a-2891cbb0957a",
   "metadata": {},
   "outputs": [],
   "source": [
    "# Assuming we have done a detailed analysis"
   ]
  },
  {
   "cell_type": "code",
   "execution_count": null,
   "id": "90c3a54f-28b1-4a03-9c2b-4325c24d9fb3",
   "metadata": {},
   "outputs": [],
   "source": [
    "plt.scatter(df['lstat'],df['crim'])"
   ]
  },
  {
   "cell_type": "code",
   "execution_count": null,
   "id": "b1558fa7-7a74-4738-a948-c148592c55b7",
   "metadata": {},
   "outputs": [],
   "source": [
    "df[:3]"
   ]
  },
  {
   "cell_type": "code",
   "execution_count": null,
   "id": "aa955c83-7e90-41a0-a74e-54402a25b9ae",
   "metadata": {},
   "outputs": [],
   "source": [
    "# med --> price in 1000$"
   ]
  },
  {
   "cell_type": "code",
   "execution_count": null,
   "id": "a863177a-a431-4b64-8adb-f34f72ccd7f6",
   "metadata": {},
   "outputs": [],
   "source": [
    "sns.pairplot(df)"
   ]
  },
  {
   "cell_type": "code",
   "execution_count": null,
   "id": "f0df6d10-d6cc-4ff3-8fea-6741e52010f3",
   "metadata": {},
   "outputs": [],
   "source": [
    "# Linear regression"
   ]
  },
  {
   "cell_type": "code",
   "execution_count": null,
   "id": "f3acc7f7-7a55-4bec-9337-28af9b03725a",
   "metadata": {},
   "outputs": [],
   "source": [
    "# e(y) = b0+b1*x1+b2*x2+.....err"
   ]
  },
  {
   "cell_type": "raw",
   "id": "b4ac8396-bb2d-4106-9698-df0683c7ba3d",
   "metadata": {},
   "source": [
    "b0 --> intercept\n",
    "b --> coefficients (weights)"
   ]
  },
  {
   "cell_type": "raw",
   "id": "fc5be819-8f70-45f3-9987-24f5ab6c0071",
   "metadata": {},
   "source": [
    "Assumption1 --> All x vars should have a linear relationship with Y"
   ]
  },
  {
   "cell_type": "code",
   "execution_count": null,
   "id": "3b3ed693-bada-4479-b65e-1fed90f3436f",
   "metadata": {},
   "outputs": [],
   "source": [
    "Assumption 2 --> Avoid multi-collinearity "
   ]
  },
  {
   "cell_type": "code",
   "execution_count": null,
   "id": "13c2acbe-9d2c-4165-9486-09fc37c9a083",
   "metadata": {},
   "outputs": [],
   "source": [
    "plt.scatter(df['lstat'], df['crim'])"
   ]
  },
  {
   "cell_type": "code",
   "execution_count": null,
   "id": "9c05d694-6c4a-4976-bd55-8e10a28bdc0c",
   "metadata": {},
   "outputs": [],
   "source": [
    "plt.figure(figsize=(10,5))\n",
    "sns.heatmap(df.corr(), annot=True)\n",
    "plt.show()"
   ]
  },
  {
   "cell_type": "code",
   "execution_count": null,
   "id": "2b63bdbd-9dd5-4bb4-aba6-81210b1de24f",
   "metadata": {},
   "outputs": [],
   "source": [
    "# Check the distribution of the target variable"
   ]
  },
  {
   "cell_type": "code",
   "execution_count": null,
   "id": "c7e2edef-13ce-49e8-bd10-2df3c4cc2dbf",
   "metadata": {},
   "outputs": [],
   "source": [
    "sns.boxplot(df['medv'])"
   ]
  },
  {
   "cell_type": "code",
   "execution_count": null,
   "id": "18ca5a2c-a114-472d-a2f6-046c35c31b7c",
   "metadata": {},
   "outputs": [],
   "source": [
    "x = df.iloc[:,:13]"
   ]
  },
  {
   "cell_type": "code",
   "execution_count": null,
   "id": "4bbaf4ba-db91-46e3-b4c7-6444fb02dd9a",
   "metadata": {},
   "outputs": [],
   "source": [
    "y = df['medv']"
   ]
  },
  {
   "cell_type": "code",
   "execution_count": null,
   "id": "b012da27-62cf-4233-bc4e-1a5bbeb347b2",
   "metadata": {},
   "outputs": [],
   "source": [
    "df.columns"
   ]
  },
  {
   "cell_type": "code",
   "execution_count": null,
   "id": "abd5d956-03a7-4027-973e-6c4d6481bf22",
   "metadata": {},
   "outputs": [],
   "source": [
    "from sklearn.model_selection import train_test_split"
   ]
  },
  {
   "cell_type": "code",
   "execution_count": null,
   "id": "c35b7fac-fc5c-43cd-98f9-fbe3e9c0880a",
   "metadata": {},
   "outputs": [],
   "source": [
    "xtrain,xtest,ytrain,ytest = train_test_split(x,y, test_size=0.2, random_state=8)"
   ]
  },
  {
   "cell_type": "code",
   "execution_count": null,
   "id": "b323bd7a-a3a1-4f63-b27b-321dc9946bb7",
   "metadata": {},
   "outputs": [],
   "source": [
    "xtrain[:2]"
   ]
  },
  {
   "cell_type": "code",
   "execution_count": null,
   "id": "3f80a27b-47b9-4e21-9934-6082f9f75b0b",
   "metadata": {},
   "outputs": [],
   "source": [
    "xtest.shape"
   ]
  },
  {
   "cell_type": "code",
   "execution_count": null,
   "id": "f8b82037-1336-481a-9339-b18f0e3e91d0",
   "metadata": {},
   "outputs": [],
   "source": [
    "xtrain.shape"
   ]
  },
  {
   "cell_type": "code",
   "execution_count": null,
   "id": "c43775ba-317a-4dfc-8a1e-b7559bc7929e",
   "metadata": {},
   "outputs": [],
   "source": [
    "sns.boxplot(ytest)"
   ]
  },
  {
   "cell_type": "code",
   "execution_count": null,
   "id": "11f083c7-d60f-491a-baeb-dd366296868b",
   "metadata": {},
   "outputs": [],
   "source": [
    "from sklearn.linear_model import LinearRegression"
   ]
  },
  {
   "cell_type": "code",
   "execution_count": null,
   "id": "c2ce5755-4f20-4ac0-ac8a-55f750fcb51f",
   "metadata": {},
   "outputs": [],
   "source": [
    "# statsmodel package --> interpret stats like p-value, std error, t-val, r2, adjusted r2"
   ]
  },
  {
   "cell_type": "code",
   "execution_count": null,
   "id": "e72fd9a4-f099-481d-acea-495eb798ecc8",
   "metadata": {},
   "outputs": [],
   "source": [
    "lr = LinearRegression()"
   ]
  },
  {
   "cell_type": "code",
   "execution_count": null,
   "id": "dd598db0-ae3b-428b-af61-0daf7eb4353e",
   "metadata": {},
   "outputs": [],
   "source": [
    "model_lr = lr.fit(xtrain,ytrain)"
   ]
  },
  {
   "cell_type": "code",
   "execution_count": null,
   "id": "97ef2d01-f4fb-411c-b3d1-36b6d1e704ac",
   "metadata": {},
   "outputs": [],
   "source": [
    "model_lr.intercept_"
   ]
  },
  {
   "cell_type": "code",
   "execution_count": null,
   "id": "8dc5c616-7f6c-40cd-8d37-600bdd6a148f",
   "metadata": {},
   "outputs": [],
   "source": [
    "model_lr.coef_"
   ]
  },
  {
   "cell_type": "code",
   "execution_count": null,
   "id": "58a12b24-81ea-45ab-92a2-17623e5d9b40",
   "metadata": {},
   "outputs": [],
   "source": [
    "xtest[:1]"
   ]
  },
  {
   "cell_type": "code",
   "execution_count": null,
   "id": "a7659038-d34f-4cdd-974b-f37a22f71e35",
   "metadata": {},
   "outputs": [],
   "source": [
    "sns.distplot(model_lr.predict(xtest))"
   ]
  },
  {
   "cell_type": "code",
   "execution_count": null,
   "id": "3293cfc8-0fc4-40e6-8aa6-058a61f302c7",
   "metadata": {},
   "outputs": [],
   "source": [
    "model_lr.predict(xtest[:1])"
   ]
  },
  {
   "cell_type": "code",
   "execution_count": null,
   "id": "b0e14b54-d1d7-4168-b914-595d0ba8e917",
   "metadata": {},
   "outputs": [],
   "source": [
    "e(y)  --> b0+b1x1+b2x2+.......b13*x13"
   ]
  },
  {
   "cell_type": "code",
   "execution_count": null,
   "id": "cafdce57-c4f1-460e-8564-513064c998d9",
   "metadata": {},
   "outputs": [],
   "source": [
    "pred = model_lr.predict(xtest)"
   ]
  },
  {
   "cell_type": "code",
   "execution_count": null,
   "id": "f5a085da-244b-4805-a576-6ec28eba6c38",
   "metadata": {},
   "outputs": [],
   "source": [
    "err = pd.DataFrame({'Actual':ytest, 'Predicted':pred})"
   ]
  },
  {
   "cell_type": "code",
   "execution_count": null,
   "id": "138d9ed6-96b6-4cde-b715-a7f2255cd975",
   "metadata": {},
   "outputs": [],
   "source": [
    "err = err.reset_index(drop=True)"
   ]
  },
  {
   "cell_type": "code",
   "execution_count": null,
   "id": "0f046920-63b6-4de1-aad2-aea164b32fb4",
   "metadata": {},
   "outputs": [],
   "source": [
    "plt.plot(err)\n",
    "plt.show()"
   ]
  },
  {
   "cell_type": "code",
   "execution_count": null,
   "id": "0c332df6-49dd-4f1a-b3e6-b0e2cdc9c420",
   "metadata": {},
   "outputs": [],
   "source": [
    "from sklearn.metrics import mean_squared_error, r2_score"
   ]
  },
  {
   "cell_type": "code",
   "execution_count": null,
   "id": "d1e121af-333d-4eb2-bcf1-7dc4e7f3746b",
   "metadata": {},
   "outputs": [],
   "source": [
    "np.sqrt(mean_squared_error(ytest,pred))"
   ]
  },
  {
   "cell_type": "code",
   "execution_count": null,
   "id": "cbc9a831-afd3-457d-b1b0-0fa72f6e15ac",
   "metadata": {},
   "outputs": [],
   "source": [
    "err[:5]"
   ]
  },
  {
   "cell_type": "code",
   "execution_count": null,
   "id": "03e1d619-3988-4b10-bd02-e047f0fcfc78",
   "metadata": {},
   "outputs": [],
   "source": [
    "model_lr.predict(xtest[:1])"
   ]
  },
  {
   "cell_type": "code",
   "execution_count": null,
   "id": "f962f498-7798-4c52-8af1-a505166f1f24",
   "metadata": {},
   "outputs": [],
   "source": [
    "r2_score(ytest,pred)"
   ]
  },
  {
   "cell_type": "code",
   "execution_count": null,
   "id": "448758e5-f1e2-449b-a4f2-9c21d1032e3b",
   "metadata": {},
   "outputs": [],
   "source": [
    "# Decision tree regression"
   ]
  },
  {
   "cell_type": "code",
   "execution_count": null,
   "id": "fc31f8eb-dc64-4d95-8d58-eeba31166de3",
   "metadata": {},
   "outputs": [],
   "source": [
    "from sklearn.tree import DecisionTreeRegressor"
   ]
  },
  {
   "cell_type": "code",
   "execution_count": null,
   "id": "d70c3c87-91a5-4fd8-9759-e33d741dcb81",
   "metadata": {},
   "outputs": [],
   "source": [
    "dtree = DecisionTreeRegressor(max_depth=4, max_leaf_nodes=10)"
   ]
  },
  {
   "cell_type": "code",
   "execution_count": null,
   "id": "f2f6668e-c6d9-4c7d-987d-ee72f798c604",
   "metadata": {},
   "outputs": [],
   "source": [
    "model_tree = dtree.fit(xtrain,ytrain)"
   ]
  },
  {
   "cell_type": "code",
   "execution_count": null,
   "id": "7f7bdb6e-3fc5-4e78-a36f-d907bafe74bc",
   "metadata": {},
   "outputs": [],
   "source": [
    "pred_tree = model_tree.predict(xtest)"
   ]
  },
  {
   "cell_type": "code",
   "execution_count": null,
   "id": "0d105019-a694-45f0-a9a6-f2bb47dc7e8d",
   "metadata": {},
   "outputs": [],
   "source": [
    "np.sqrt(mean_squared_error(ytest,pred_tree))"
   ]
  },
  {
   "cell_type": "code",
   "execution_count": null,
   "id": "9a541859-e99a-4c9a-a9d3-06d5358b4c3d",
   "metadata": {},
   "outputs": [],
   "source": [
    "#from dtreeviz.trees import dtreeviz"
   ]
  },
  {
   "cell_type": "code",
   "execution_count": null,
   "id": "a04d26d7-f6aa-4fb5-bdf1-119cb2529b22",
   "metadata": {},
   "outputs": [],
   "source": [
    "#!pip install dtreeviz"
   ]
  },
  {
   "cell_type": "code",
   "execution_count": null,
   "id": "e69f2804-9cab-4f8c-8f5b-143826eae76a",
   "metadata": {},
   "outputs": [],
   "source": [
    "from sklearn.tree import plot_tree\n",
    "# Visualize the Decision Tree\n",
    "plt.figure(figsize=(20, 10))  # Adjust the figure size for better readability\n",
    "plot_tree(model_tree, feature_names=x.columns, filled=True, rounded=True, fontsize=10)\n",
    "plt.title(\"Decision Tree Regressor\")\n",
    "plt.show()"
   ]
  },
  {
   "cell_type": "code",
   "execution_count": null,
   "id": "35d17973-a305-46e6-8065-976c9b2673ae",
   "metadata": {},
   "outputs": [],
   "source": [
    "# Ensemble models --> Bagging & boosting"
   ]
  },
  {
   "cell_type": "code",
   "execution_count": null,
   "id": "d9578c08-5d5d-4a5d-b3b7-aba5c6aa2e7a",
   "metadata": {},
   "outputs": [],
   "source": [
    "# Random forest\n",
    "# XGboost"
   ]
  },
  {
   "cell_type": "code",
   "execution_count": null,
   "id": "3c8fa463-a44d-440a-8c03-6e494efa83b4",
   "metadata": {},
   "outputs": [],
   "source": [
    "from sklearn.ensemble import RandomForestRegressor"
   ]
  },
  {
   "cell_type": "code",
   "execution_count": null,
   "id": "3d3b8e22-46cd-4e6f-8f45-cf171bf7c7b3",
   "metadata": {},
   "outputs": [],
   "source": [
    "rf = RandomForestRegressor()"
   ]
  },
  {
   "cell_type": "code",
   "execution_count": null,
   "id": "e52610f6-8487-436d-b1ae-97c18f1a0f79",
   "metadata": {},
   "outputs": [],
   "source": [
    "model_rf = rf.fit(xtrain,ytrain)"
   ]
  },
  {
   "cell_type": "code",
   "execution_count": null,
   "id": "ea22d628-11e1-4563-876a-52b938f767f1",
   "metadata": {},
   "outputs": [],
   "source": [
    "pred_rf = model_rf.predict(xtest)"
   ]
  },
  {
   "cell_type": "code",
   "execution_count": null,
   "id": "182e47f8-8997-4f2a-a706-efe8945891ff",
   "metadata": {},
   "outputs": [],
   "source": [
    "np.sqrt(mean_squared_error(ytest,pred_rf))"
   ]
  },
  {
   "cell_type": "code",
   "execution_count": null,
   "id": "a9236e97-2103-4217-b050-342c351aa9d0",
   "metadata": {},
   "outputs": [],
   "source": [
    "df1 = pd.read_csv(\"E:/data/Ecommerce_data.csv\")"
   ]
  },
  {
   "cell_type": "code",
   "execution_count": null,
   "id": "1d9c0181-4c61-40d9-a069-012ef1a8ab40",
   "metadata": {},
   "outputs": [],
   "source": [
    "df1[:6]"
   ]
  },
  {
   "cell_type": "code",
   "execution_count": null,
   "id": "d9a91729-85b0-4ff7-939a-726439b50b6f",
   "metadata": {},
   "outputs": [],
   "source": [
    "df1.iloc[:,[0,5,6]].corr()"
   ]
  },
  {
   "cell_type": "code",
   "execution_count": null,
   "id": "e6300ead-4c5c-465d-876a-ac2a68bca6c3",
   "metadata": {},
   "outputs": [],
   "source": [
    "df1.columns"
   ]
  },
  {
   "cell_type": "code",
   "execution_count": null,
   "id": "1b559607-6e36-47f1-ab6b-77462d328ed7",
   "metadata": {},
   "outputs": [],
   "source": [
    "sns.boxplot(x=df1['Job Type'], y=df1['Purchase made'])"
   ]
  },
  {
   "cell_type": "code",
   "execution_count": null,
   "id": "76121de0-95c7-457d-8c7d-ef149f83d9ff",
   "metadata": {},
   "outputs": [],
   "source": [
    "df1['Job Type'].value_counts()"
   ]
  },
  {
   "cell_type": "code",
   "execution_count": null,
   "id": "150fa32c-74e3-4225-b45a-24236bd2a856",
   "metadata": {},
   "outputs": [],
   "source": [
    "job = pd.get_dummies(df1['Job Type'], drop_first=True)"
   ]
  },
  {
   "cell_type": "code",
   "execution_count": null,
   "id": "f233b7c3-8c30-4e7c-8896-4f405c0648d9",
   "metadata": {},
   "outputs": [],
   "source": [
    "df2 = pd.concat([job,df1],axis=1)"
   ]
  },
  {
   "cell_type": "code",
   "execution_count": null,
   "id": "402c9fd2-b089-4e19-8ba1-8a08541a064e",
   "metadata": {},
   "outputs": [],
   "source": [
    "df2.drop('Job Type', axis=1, inplace=True)"
   ]
  },
  {
   "cell_type": "code",
   "execution_count": null,
   "id": "41691ae6-4680-4e06-91a8-e1b63feff584",
   "metadata": {},
   "outputs": [],
   "source": [
    "df2[:2]"
   ]
  },
  {
   "cell_type": "code",
   "execution_count": null,
   "id": "aa09e216-1622-46e3-9d31-d9ff660ace71",
   "metadata": {},
   "outputs": [],
   "source": [
    "# Classification Algorithms"
   ]
  },
  {
   "cell_type": "code",
   "execution_count": null,
   "id": "a9c21dcf-bd19-48e0-aed9-f147c2af8eef",
   "metadata": {},
   "outputs": [],
   "source": [
    "# Logistic Regression : Predict the binomial outcome ( 0 & 1)\n",
    "# Probabilistic Model\n",
    "# g(e(y)) <- b0+b1*x1+b2*x2"
   ]
  },
  {
   "cell_type": "code",
   "execution_count": null,
   "id": "54a66c0e-0042-4d6d-8594-840eb680d28f",
   "metadata": {},
   "outputs": [],
   "source": [
    "# p = outcomes of interest/ all the possible outcomes\n",
    "\n",
    "# p(heads) = 1/2 = 0.5\n",
    "\n",
    "# p(1 or 2) = 2/6=1/3=0.333\n",
    "\n",
    "# p(diamond) = 13/52 = 1/4 = 0.25\n",
    "\n",
    "# ODDS\n",
    "\n",
    "# odds = p(occuring)/p(not occuring)\n",
    "\n",
    "# odds = p/1-p\n",
    "\n",
    "# odds(heads) = 0.5/0.5 = 1 or 1:1\n",
    "\n",
    "# odds(1 or 2) = 0.333/0.666 = 1/2 = 0.5 or 1:2\n",
    "\n",
    "# odds (diamond) = 0.25/0.75 = 1/3 = 1:3\n",
    "\n",
    "# Odds ratio\n",
    "\n",
    "# odds ratio = odds1/odds0 = (p1/1-p1)/(p0/1-p0) \n",
    "\n",
    "# p(heads) = 0.5/0.5 = 1:1\n",
    "\n",
    "# p(heads) = 7/10 = 0.7\n",
    "\n",
    "# odds (heads) = 0.7/0.3 = 2.333\n",
    "\n",
    "# odds ratio  = (0.7/0.3)/(0.5/0.5) = (0.7/0.3)*(0.5/0.5)\n",
    " \n",
    "# The Odds of having a head on the loaded coin is *2.333 greater than the fair coin\n",
    "\n",
    "# The Y variable in logistic regression follows the \"Bernoulli Distribution\" ( success=1, fsilure = 0)\n",
    "\n",
    "\n",
    "# Logit Function : Linking the x vars to the bernoulli distribution (natural log of the odds ratio)\n",
    "\n",
    "# ln(odds) = ln(p/1-p) (logit function) / log of the odds\n",
    "\n",
    "# Inverse Logit = logit-1(a) = 1/1+e(-a) = e(a)/1+e(a) (Sigmoid function)"
   ]
  },
  {
   "cell_type": "code",
   "execution_count": null,
   "id": "b8f29cec-b17f-4173-9253-582335ffa829",
   "metadata": {},
   "outputs": [],
   "source": [
    "# p(y)>0\n",
    "\n",
    "# p(y)<1\n",
    "\n",
    "# p = exp(b0+b1x1) --> (p>0)\n",
    "\n",
    "# p = exp(b0+b1x1)/ exp(bo+b1x1)+1 --> (p<1)\n",
    "\n",
    "# p = e^y/1+e^y\n",
    "\n",
    "# p/1-p = (e^y/1+e^y)/(1-(e^y/1+e^y))\n",
    "\n",
    "# p/1-p = e(y)\n",
    "\n",
    "# log[p/1-p] = b0+b1x1"
   ]
  },
  {
   "cell_type": "code",
   "execution_count": null,
   "id": "94cbc675-ef8d-4a79-9381-c45e47d53ebc",
   "metadata": {},
   "outputs": [],
   "source": [
    "# Maximum likelihood\n",
    "\n",
    "# Log Loss : Negative avg of the log of corrected predicted probabilities for each records"
   ]
  },
  {
   "cell_type": "code",
   "execution_count": null,
   "id": "360c153d-30e9-42f0-a654-89516cda24d6",
   "metadata": {},
   "outputs": [],
   "source": [
    "df = pd.read_csv(\"E:/data/churn.csv\")"
   ]
  },
  {
   "cell_type": "code",
   "execution_count": null,
   "id": "aad4137b-62f3-4761-8d77-213cfb044ff9",
   "metadata": {},
   "outputs": [],
   "source": [
    "df[:2]"
   ]
  },
  {
   "cell_type": "code",
   "execution_count": null,
   "id": "3fcf1ad2-a655-4aed-a5a7-e423318afc24",
   "metadata": {},
   "outputs": [],
   "source": [
    "# Done --> EDA, Data cleaning, Manipulation, Visualisation"
   ]
  },
  {
   "cell_type": "code",
   "execution_count": null,
   "id": "afdaa8fe-79e0-42c6-838f-2e0dde44d277",
   "metadata": {},
   "outputs": [],
   "source": [
    "# Predictive model"
   ]
  },
  {
   "cell_type": "code",
   "execution_count": null,
   "id": "0fcdd370-610c-484e-b4cf-7c6c16a26d7a",
   "metadata": {},
   "outputs": [],
   "source": [
    "# # Check the class distribution of the target variable"
   ]
  },
  {
   "cell_type": "code",
   "execution_count": null,
   "id": "9367571b-4038-4ae3-9057-24a74a6b8ac6",
   "metadata": {},
   "outputs": [],
   "source": [
    "df['Exited'].value_counts()"
   ]
  },
  {
   "cell_type": "code",
   "execution_count": null,
   "id": "ada9d0e9-5fa1-4b81-8252-8751461c0712",
   "metadata": {},
   "outputs": [],
   "source": [
    "# Baseline accuracy\n",
    "7963/10000"
   ]
  },
  {
   "cell_type": "code",
   "execution_count": null,
   "id": "3b4d69f1-7ee5-45d1-b026-cd8033edd350",
   "metadata": {},
   "outputs": [],
   "source": [
    "# Convert the categorical variables as dummy"
   ]
  },
  {
   "cell_type": "code",
   "execution_count": null,
   "id": "41cb1266-4282-4f3d-8a83-7452ff00f9b8",
   "metadata": {},
   "outputs": [],
   "source": [
    "d = pd.get_dummies(df[['Gender','Geography']], drop_first=True)"
   ]
  },
  {
   "cell_type": "code",
   "execution_count": null,
   "id": "abd482a1-9ded-4a5d-8234-9d4ea3405a43",
   "metadata": {},
   "outputs": [],
   "source": [
    "df.drop(['Gender','Geography'], axis=1, inplace=True)"
   ]
  },
  {
   "cell_type": "code",
   "execution_count": null,
   "id": "64b3a6fc-10bc-4788-881a-d139932ce4b0",
   "metadata": {},
   "outputs": [],
   "source": [
    "df = pd.concat([df,d], axis=1)"
   ]
  },
  {
   "cell_type": "code",
   "execution_count": null,
   "id": "41fd0dde-8c35-4965-90f3-d25e1761b557",
   "metadata": {},
   "outputs": [],
   "source": [
    "df[:2]"
   ]
  },
  {
   "cell_type": "code",
   "execution_count": null,
   "id": "0ebca662-45fb-4887-b043-98e75f611ea5",
   "metadata": {},
   "outputs": [],
   "source": [
    "x= df.iloc[:,[2,3,4,5,6,7,8,9,11,12,13]]"
   ]
  },
  {
   "cell_type": "code",
   "execution_count": null,
   "id": "facf19d3-4035-40a2-b004-b9d06c3dce85",
   "metadata": {},
   "outputs": [],
   "source": [
    "y = df['Exited']"
   ]
  },
  {
   "cell_type": "code",
   "execution_count": null,
   "id": "a739439f-7c30-4468-8020-4ef041a5d9ad",
   "metadata": {},
   "outputs": [],
   "source": [
    "x[:2]"
   ]
  },
  {
   "cell_type": "code",
   "execution_count": null,
   "id": "9a21f5b7-dc86-41c2-b81e-31e2b0e602b5",
   "metadata": {},
   "outputs": [],
   "source": [
    "from sklearn.model_selection import train_test_split"
   ]
  },
  {
   "cell_type": "code",
   "execution_count": null,
   "id": "58f13b58-78f7-4803-8321-24f08100f585",
   "metadata": {},
   "outputs": [],
   "source": [
    "x_train,x_test,y_train,y_test = train_test_split(x,y,test_size=0.20,random_state=3)"
   ]
  },
  {
   "cell_type": "code",
   "execution_count": null,
   "id": "1ecb5370-6209-456f-b6cc-46f4a9c2eb00",
   "metadata": {},
   "outputs": [],
   "source": [
    "y_train.value_counts()"
   ]
  },
  {
   "cell_type": "code",
   "execution_count": null,
   "id": "c7d00544-2b19-41f9-b3a5-5e54d5d76f7e",
   "metadata": {},
   "outputs": [],
   "source": [
    "6358/8000"
   ]
  },
  {
   "cell_type": "code",
   "execution_count": null,
   "id": "7b415d38-9061-4bdd-8107-31d9ea6577a7",
   "metadata": {},
   "outputs": [],
   "source": [
    "from sklearn.linear_model import LogisticRegression"
   ]
  },
  {
   "cell_type": "code",
   "execution_count": null,
   "id": "d695e5e5-b0dc-4ed6-bcd5-11442a599a80",
   "metadata": {},
   "outputs": [],
   "source": [
    "lg = LogisticRegression(solver='saga',max_iter=10000, class_weight='balanced')"
   ]
  },
  {
   "cell_type": "code",
   "execution_count": null,
   "id": "64b4a3e0-96ac-457c-9802-efa6068ba8c8",
   "metadata": {},
   "outputs": [],
   "source": [
    "help(LogisticRegression)"
   ]
  },
  {
   "cell_type": "code",
   "execution_count": null,
   "id": "157957b4-a42e-4b7f-a9b2-4871b2cf93cc",
   "metadata": {},
   "outputs": [],
   "source": [
    "model1 = lg.fit(x_train,y_train)"
   ]
  },
  {
   "cell_type": "code",
   "execution_count": null,
   "id": "33386fdd-b40c-4362-9fc8-335335ededeb",
   "metadata": {},
   "outputs": [],
   "source": [
    "model1.coef_"
   ]
  },
  {
   "cell_type": "code",
   "execution_count": null,
   "id": "d674ad6b-5891-4397-9538-694bbc2ca090",
   "metadata": {},
   "outputs": [],
   "source": [
    "# ROCR/AUC to find the goodness of fit in the model"
   ]
  },
  {
   "cell_type": "code",
   "execution_count": null,
   "id": "42d75440-c202-4068-a48c-9887e2832f01",
   "metadata": {},
   "outputs": [],
   "source": [
    "from sklearn import metrics"
   ]
  },
  {
   "cell_type": "code",
   "execution_count": null,
   "id": "ca042acb-fff4-4f8b-acb0-8d27d69e0782",
   "metadata": {},
   "outputs": [],
   "source": [
    "y_pred_proba = model1.predict_proba(x_test)[:,1]\n",
    "fpr,tpr, _ = metrics.roc_curve(y_test,y_pred_proba)\n",
    "AUC = metrics.roc_auc_score(y_test,y_pred_proba)\n",
    "plt.plot(fpr,tpr,label=\"Curve, AUC=\"+str(AUC))\n",
    "plt.legend(loc=4)\n",
    "plt.show()"
   ]
  },
  {
   "cell_type": "code",
   "execution_count": null,
   "id": "dc85fee8-8454-49a6-87e2-51bd1a702fb1",
   "metadata": {},
   "outputs": [],
   "source": [
    "pred_churn = model1.predict(x_test)"
   ]
  },
  {
   "cell_type": "code",
   "execution_count": null,
   "id": "0946f993-8217-4934-903f-309a9c3687b6",
   "metadata": {},
   "outputs": [],
   "source": [
    "y_test[:15]"
   ]
  },
  {
   "cell_type": "code",
   "execution_count": null,
   "id": "c6fad58d-faf7-4a28-9d71-712724a56ed5",
   "metadata": {},
   "outputs": [],
   "source": [
    "pred_churn[:15]"
   ]
  },
  {
   "cell_type": "code",
   "execution_count": null,
   "id": "c8a2e108-7519-47f5-b069-2a52af40f0d8",
   "metadata": {},
   "outputs": [],
   "source": [
    "pd.crosstab(y_test,pred_churn)"
   ]
  },
  {
   "cell_type": "code",
   "execution_count": null,
   "id": "f0d8b1f3-2c68-4e29-95cc-2783abdbae94",
   "metadata": {},
   "outputs": [],
   "source": [
    "from sklearn.metrics import confusion_matrix, classification_report"
   ]
  },
  {
   "cell_type": "code",
   "execution_count": null,
   "id": "b66f2bf2-5969-4292-aa4a-a4d30484c2aa",
   "metadata": {},
   "outputs": [],
   "source": [
    "confusion_matrix(y_test,pred_churn)"
   ]
  },
  {
   "cell_type": "code",
   "execution_count": null,
   "id": "24509822-557c-483d-8930-6c820673350c",
   "metadata": {},
   "outputs": [],
   "source": [
    "(782+266)/(782+823+129+266)"
   ]
  },
  {
   "cell_type": "code",
   "execution_count": null,
   "id": "39edc130-6e28-4661-94cc-ccfc75dbc931",
   "metadata": {},
   "outputs": [],
   "source": [
    "266/(266+129)"
   ]
  },
  {
   "cell_type": "code",
   "execution_count": null,
   "id": "f67934e0-c23e-40f5-8f48-43f3ba638d86",
   "metadata": {},
   "outputs": [],
   "source": [
    "266/(266+823)"
   ]
  },
  {
   "cell_type": "code",
   "execution_count": null,
   "id": "17058b13-b492-4a04-9ff2-d8a7290feef0",
   "metadata": {},
   "outputs": [],
   "source": []
  }
 ],
 "metadata": {
  "kernelspec": {
   "display_name": "Python 3 (ipykernel)",
   "language": "python",
   "name": "python3"
  },
  "language_info": {
   "codemirror_mode": {
    "name": "ipython",
    "version": 3
   },
   "file_extension": ".py",
   "mimetype": "text/x-python",
   "name": "python",
   "nbconvert_exporter": "python",
   "pygments_lexer": "ipython3",
   "version": "3.12.4"
  }
 },
 "nbformat": 4,
 "nbformat_minor": 5
}
